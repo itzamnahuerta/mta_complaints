{
 "cells": [
  {
   "cell_type": "markdown",
   "id": "76758f39",
   "metadata": {},
   "source": [
    "# MTA Customer Feedback Exploratory Analysis for Accessibility "
   ]
  },
  {
   "cell_type": "markdown",
   "id": "a9fe73c3",
   "metadata": {},
   "source": [
    "##### Data\n",
    "\n",
    "MTA Customer Feedback Data (2014-2020)\n",
    "[Source Link](https://data.ny.gov/Transportation/MTA-Customer-Feedback-Data-Beginning-2014/tppa-s6t6) |\n",
    "[Data Dictionary](https://data.ny.gov/api/views/tppa-s6t6/files/647be5e6-126f-47f2-8fa0-6175ccedda89?download=true&filename=MTA_CustomerFeedbackRightNowData_DataDictionary.pdf)\n",
    "\n",
    "This dataset is generated from the Customer Relationship Management System. This system allows the public to correspond to the MTA about complaints or commendations in a variety of categories. The dataset contains information about areas of customer service and how that service was rated.\n",
    "\n",
    "\n",
    "##### Data Dictionary\n",
    "- Agency: The agency referenced in the e-mail; valid values are:\n",
    "    - Long Island Rail Road\n",
    "    - Metro-North Railroad\n",
    "    - NYC Buses\n",
    "    - Subways\n",
    "- Commendation or Complaint: Type of Issue (complaint or commendation) referenced in the e-mail; valid values are:\n",
    "    - Complaint\n",
    "    - Commendation\n",
    "- Subject Matter: Subject matter referenced in the e-mail; valid values are:\n",
    "    - Buses\n",
    "    - Commendation\n",
    "    - Complaint\n",
    "    - Customer\n",
    "    - Ferry Service – Hudson River\n",
    "    - MetroCard/Tickets/EZ-Pass & Tolls\n",
    "    - MTA Agency Cars / Trucks\n",
    "    - Policies, Rules & Regulations\n",
    "    - Public Hearing\n",
    "    - Schedules / Reservations\n",
    "    - Station/Bus Stop/Facility/Structure\n",
    "    - Telephone / Web Site / Mobile Apps\n",
    "    - Trains\n",
    "    - Travel Disruption / Trip Problem\n",
    "    \n",
    "- Subject Detail: The specific area of service referenced in the e-mail\n",
    "- Issue Detail: The feedback, pre-defined response, or category of the area of service\n",
    "- Year: The year that the complaint/commendation was entered.\n",
    "- Month: The month that the complaint/commendation was entered.\n",
    "- Branch/Line/Route: The branch, line, or route selected by the customer; will appear blank if no selection was made.\n"
   ]
  },
  {
   "cell_type": "markdown",
   "id": "0efee4ca",
   "metadata": {},
   "source": [
    "<hr>"
   ]
  },
  {
   "cell_type": "code",
   "execution_count": 1,
   "id": "cdcd6a9a",
   "metadata": {},
   "outputs": [],
   "source": [
    "import pandas as pd \n",
    "import numpy as np\n",
    "import seaborn as sns\n",
    "%matplotlib inline\n",
    "import matplotlib.pyplot as plt"
   ]
  },
  {
   "cell_type": "code",
   "execution_count": 2,
   "id": "ebefabf2",
   "metadata": {},
   "outputs": [],
   "source": [
    "df = pd.read_csv('./data/ORIGINAL_MTA_Customer_Feedback_Data__Beginning_2014.csv')"
   ]
  },
  {
   "cell_type": "code",
   "execution_count": 3,
   "id": "bc53221b",
   "metadata": {
    "scrolled": true
   },
   "outputs": [
    {
     "data": {
      "text/html": [
       "<div>\n",
       "<style scoped>\n",
       "    .dataframe tbody tr th:only-of-type {\n",
       "        vertical-align: middle;\n",
       "    }\n",
       "\n",
       "    .dataframe tbody tr th {\n",
       "        vertical-align: top;\n",
       "    }\n",
       "\n",
       "    .dataframe thead th {\n",
       "        text-align: right;\n",
       "    }\n",
       "</style>\n",
       "<table border=\"1\" class=\"dataframe\">\n",
       "  <thead>\n",
       "    <tr style=\"text-align: right;\">\n",
       "      <th></th>\n",
       "      <th>Agency</th>\n",
       "      <th>Commendation or Complaint</th>\n",
       "      <th>Subject Matter</th>\n",
       "      <th>Subject Detail</th>\n",
       "      <th>Issue Detail</th>\n",
       "      <th>Year</th>\n",
       "      <th>Quarter</th>\n",
       "      <th>Branch/Line/Route</th>\n",
       "    </tr>\n",
       "  </thead>\n",
       "  <tbody>\n",
       "    <tr>\n",
       "      <th>0</th>\n",
       "      <td>Buses</td>\n",
       "      <td>Commendation</td>\n",
       "      <td>Employee</td>\n",
       "      <td>Bus Operator / Driver</td>\n",
       "      <td>Customer Service / Behavior</td>\n",
       "      <td>2019.0</td>\n",
       "      <td>4.0</td>\n",
       "      <td>B67</td>\n",
       "    </tr>\n",
       "    <tr>\n",
       "      <th>1</th>\n",
       "      <td>Buses</td>\n",
       "      <td>Commendation</td>\n",
       "      <td>Employee</td>\n",
       "      <td>Bus Operator / Driver</td>\n",
       "      <td>Customer Service / Behavior</td>\n",
       "      <td>2019.0</td>\n",
       "      <td>4.0</td>\n",
       "      <td>SIM33C</td>\n",
       "    </tr>\n",
       "  </tbody>\n",
       "</table>\n",
       "</div>"
      ],
      "text/plain": [
       "  Agency Commendation or Complaint Subject Matter         Subject Detail  \\\n",
       "0  Buses              Commendation       Employee  Bus Operator / Driver   \n",
       "1  Buses              Commendation       Employee  Bus Operator / Driver   \n",
       "\n",
       "                  Issue Detail    Year  Quarter Branch/Line/Route  \n",
       "0  Customer Service / Behavior  2019.0      4.0               B67  \n",
       "1  Customer Service / Behavior  2019.0      4.0            SIM33C  "
      ]
     },
     "execution_count": 3,
     "metadata": {},
     "output_type": "execute_result"
    }
   ],
   "source": [
    "df.head(2)"
   ]
  },
  {
   "cell_type": "code",
   "execution_count": 4,
   "id": "c77f656b",
   "metadata": {},
   "outputs": [
    {
     "data": {
      "text/plain": [
       "(623757, 8)"
      ]
     },
     "execution_count": 4,
     "metadata": {},
     "output_type": "execute_result"
    }
   ],
   "source": [
    "df.shape"
   ]
  },
  {
   "cell_type": "code",
   "execution_count": 5,
   "id": "295ab245",
   "metadata": {},
   "outputs": [],
   "source": [
    "# Column Names\n",
    "# - Replacing empty space between words with an underscore\n",
    "# - Lowercasing all column names \n",
    "\n",
    "df.columns = df.columns.str.replace(' ', '_').str.lower()"
   ]
  },
  {
   "cell_type": "code",
   "execution_count": 6,
   "id": "93706813",
   "metadata": {},
   "outputs": [],
   "source": [
    "# Column Name\n",
    "# Going to also rename Branch/Line/Route to branch_line_route\n",
    "df = df.rename(columns={'branch/line/route':'branch_line_route'})"
   ]
  },
  {
   "cell_type": "code",
   "execution_count": 7,
   "id": "d6bba2f8",
   "metadata": {
    "scrolled": false
   },
   "outputs": [
    {
     "data": {
      "text/html": [
       "<div>\n",
       "<style scoped>\n",
       "    .dataframe tbody tr th:only-of-type {\n",
       "        vertical-align: middle;\n",
       "    }\n",
       "\n",
       "    .dataframe tbody tr th {\n",
       "        vertical-align: top;\n",
       "    }\n",
       "\n",
       "    .dataframe thead th {\n",
       "        text-align: right;\n",
       "    }\n",
       "</style>\n",
       "<table border=\"1\" class=\"dataframe\">\n",
       "  <thead>\n",
       "    <tr style=\"text-align: right;\">\n",
       "      <th></th>\n",
       "      <th>agency</th>\n",
       "      <th>commendation_or_complaint</th>\n",
       "      <th>subject_matter</th>\n",
       "      <th>subject_detail</th>\n",
       "      <th>issue_detail</th>\n",
       "      <th>year</th>\n",
       "      <th>quarter</th>\n",
       "      <th>branch_line_route</th>\n",
       "    </tr>\n",
       "  </thead>\n",
       "  <tbody>\n",
       "    <tr>\n",
       "      <th>0</th>\n",
       "      <td>Buses</td>\n",
       "      <td>Commendation</td>\n",
       "      <td>Employee</td>\n",
       "      <td>Bus Operator / Driver</td>\n",
       "      <td>Customer Service / Behavior</td>\n",
       "      <td>2019.0</td>\n",
       "      <td>4.0</td>\n",
       "      <td>B67</td>\n",
       "    </tr>\n",
       "    <tr>\n",
       "      <th>1</th>\n",
       "      <td>Buses</td>\n",
       "      <td>Commendation</td>\n",
       "      <td>Employee</td>\n",
       "      <td>Bus Operator / Driver</td>\n",
       "      <td>Customer Service / Behavior</td>\n",
       "      <td>2019.0</td>\n",
       "      <td>4.0</td>\n",
       "      <td>SIM33C</td>\n",
       "    </tr>\n",
       "  </tbody>\n",
       "</table>\n",
       "</div>"
      ],
      "text/plain": [
       "  agency commendation_or_complaint subject_matter         subject_detail  \\\n",
       "0  Buses              Commendation       Employee  Bus Operator / Driver   \n",
       "1  Buses              Commendation       Employee  Bus Operator / Driver   \n",
       "\n",
       "                  issue_detail    year  quarter branch_line_route  \n",
       "0  Customer Service / Behavior  2019.0      4.0               B67  \n",
       "1  Customer Service / Behavior  2019.0      4.0            SIM33C  "
      ]
     },
     "execution_count": 7,
     "metadata": {},
     "output_type": "execute_result"
    }
   ],
   "source": [
    "df.head(2)"
   ]
  },
  {
   "cell_type": "code",
   "execution_count": 8,
   "id": "20844df2",
   "metadata": {
    "scrolled": false
   },
   "outputs": [
    {
     "data": {
      "text/plain": [
       "NYC Buses                   300660\n",
       "Subways                     220800\n",
       "Long Island Rail Road        53179\n",
       "Metro-North Railroad         42601\n",
       "Buses                         6418\n",
       "MTA Corporate Office            83\n",
       "MTA Capital Construction        13\n",
       "Agency                           2\n",
       "MTA Board                        1\n",
       "Name: agency, dtype: int64"
      ]
     },
     "execution_count": 8,
     "metadata": {},
     "output_type": "execute_result"
    }
   ],
   "source": [
    "df['agency'].value_counts()"
   ]
  },
  {
   "cell_type": "code",
   "execution_count": 9,
   "id": "4f1ea195",
   "metadata": {
    "scrolled": true
   },
   "outputs": [
    {
     "data": {
      "text/plain": [
       "Complaint                 598499\n",
       "Commendation               25256\n",
       "Commendation/Complaint         2\n",
       "Name: commendation_or_complaint, dtype: int64"
      ]
     },
     "execution_count": 9,
     "metadata": {},
     "output_type": "execute_result"
    }
   ],
   "source": [
    "df['commendation_or_complaint'].value_counts()"
   ]
  },
  {
   "cell_type": "code",
   "execution_count": 10,
   "id": "fbb4f093",
   "metadata": {
    "scrolled": true
   },
   "outputs": [
    {
     "data": {
      "text/html": [
       "<div>\n",
       "<style scoped>\n",
       "    .dataframe tbody tr th:only-of-type {\n",
       "        vertical-align: middle;\n",
       "    }\n",
       "\n",
       "    .dataframe tbody tr th {\n",
       "        vertical-align: top;\n",
       "    }\n",
       "\n",
       "    .dataframe thead th {\n",
       "        text-align: right;\n",
       "    }\n",
       "</style>\n",
       "<table border=\"1\" class=\"dataframe\">\n",
       "  <thead>\n",
       "    <tr style=\"text-align: right;\">\n",
       "      <th></th>\n",
       "      <th>agency</th>\n",
       "      <th>commendation_or_complaint</th>\n",
       "      <th>subject_matter</th>\n",
       "      <th>subject_detail</th>\n",
       "      <th>issue_detail</th>\n",
       "      <th>year</th>\n",
       "      <th>quarter</th>\n",
       "      <th>branch_line_route</th>\n",
       "    </tr>\n",
       "  </thead>\n",
       "  <tbody>\n",
       "    <tr>\n",
       "      <th>623755</th>\n",
       "      <td>Agency</td>\n",
       "      <td>Commendation/Complaint</td>\n",
       "      <td>Subject Matter</td>\n",
       "      <td>Subject Detail</td>\n",
       "      <td>Issue Detail</td>\n",
       "      <td>NaN</td>\n",
       "      <td>NaN</td>\n",
       "      <td>Branch / Line / Route</td>\n",
       "    </tr>\n",
       "    <tr>\n",
       "      <th>623756</th>\n",
       "      <td>Agency</td>\n",
       "      <td>Commendation/Complaint</td>\n",
       "      <td>Subject Matter</td>\n",
       "      <td>Subject Detail</td>\n",
       "      <td>Issue Detail</td>\n",
       "      <td>NaN</td>\n",
       "      <td>NaN</td>\n",
       "      <td>Branch / Line / Route</td>\n",
       "    </tr>\n",
       "  </tbody>\n",
       "</table>\n",
       "</div>"
      ],
      "text/plain": [
       "        agency commendation_or_complaint  subject_matter  subject_detail  \\\n",
       "623755  Agency    Commendation/Complaint  Subject Matter  Subject Detail   \n",
       "623756  Agency    Commendation/Complaint  Subject Matter  Subject Detail   \n",
       "\n",
       "        issue_detail  year  quarter      branch_line_route  \n",
       "623755  Issue Detail   NaN      NaN  Branch / Line / Route  \n",
       "623756  Issue Detail   NaN      NaN  Branch / Line / Route  "
      ]
     },
     "execution_count": 10,
     "metadata": {},
     "output_type": "execute_result"
    }
   ],
   "source": [
    "df[df['commendation_or_complaint'] == \"Commendation/Complaint\"]"
   ]
  },
  {
   "cell_type": "code",
   "execution_count": 11,
   "id": "b0262e53",
   "metadata": {},
   "outputs": [
    {
     "name": "stdout",
     "output_type": "stream",
     "text": [
      "Complaint    598499\n",
      "Name: commendation_or_complaint, dtype: int64\n",
      "(598499, 8)\n"
     ]
    }
   ],
   "source": [
    "complaints_df = df[df['commendation_or_complaint'] == 'Complaint']\n",
    "print(complaints_df['commendation_or_complaint'].value_counts())\n",
    "print(complaints_df.shape) "
   ]
  },
  {
   "cell_type": "markdown",
   "id": "38eb5b2c",
   "metadata": {},
   "source": [
    "\n",
    "<b>Note:</b> <b>Data Dictionary Referenced</b> \n",
    "\n",
    "Below are the data subcategories for the data label(column) considered valid values by MTA's Data Dictionary\n",
    "\n",
    "\n",
    "\n",
    "\n",
    "<b> Agency</b>\n",
    "- Long Island Rail Road\n",
    "- Metro-North Railroad\n",
    "- <b>NYC Buses</b>\n",
    "- <b>Subways</b>"
   ]
  },
  {
   "cell_type": "code",
   "execution_count": 12,
   "id": "03aeb235",
   "metadata": {},
   "outputs": [
    {
     "data": {
      "text/plain": [
       "NYC Buses                   287106\n",
       "Subways                     213804\n",
       "Long Island Rail Road        50939\n",
       "Metro-North Railroad         40567\n",
       "Buses                         5987\n",
       "MTA Corporate Office            83\n",
       "MTA Capital Construction        12\n",
       "MTA Board                        1\n",
       "Name: agency, dtype: int64"
      ]
     },
     "execution_count": 12,
     "metadata": {},
     "output_type": "execute_result"
    }
   ],
   "source": [
    "complaints_df['agency'].value_counts()"
   ]
  },
  {
   "cell_type": "code",
   "execution_count": 13,
   "id": "e4a96a6a",
   "metadata": {},
   "outputs": [
    {
     "name": "stderr",
     "output_type": "stream",
     "text": [
      "/var/folders/3_/8xdbx4ks2kj55t5nl3zg5ff00000gn/T/ipykernel_29191/1142904232.py:2: SettingWithCopyWarning: \n",
      "A value is trying to be set on a copy of a slice from a DataFrame.\n",
      "Try using .loc[row_indexer,col_indexer] = value instead\n",
      "\n",
      "See the caveats in the documentation: https://pandas.pydata.org/pandas-docs/stable/user_guide/indexing.html#returning-a-view-versus-a-copy\n",
      "  complaints_df['agency'] = complaints_df['agency'].replace({'Buses': 'NYC Buses'})\n"
     ]
    }
   ],
   "source": [
    "# Merging Buses to NYC Buses since they are identified that way in the data dictionary document\n",
    "complaints_df['agency'] = complaints_df['agency'].replace({'Buses': 'NYC Buses'})"
   ]
  },
  {
   "cell_type": "code",
   "execution_count": 14,
   "id": "ce2a71b1",
   "metadata": {},
   "outputs": [
    {
     "data": {
      "text/plain": [
       "NYC Buses                   293093\n",
       "Subways                     213804\n",
       "Long Island Rail Road        50939\n",
       "Metro-North Railroad         40567\n",
       "MTA Corporate Office            83\n",
       "MTA Capital Construction        12\n",
       "MTA Board                        1\n",
       "Name: agency, dtype: int64"
      ]
     },
     "execution_count": 14,
     "metadata": {},
     "output_type": "execute_result"
    }
   ],
   "source": [
    "# Confirming Subways was merged \n",
    "complaints_df['agency'].value_counts()"
   ]
  },
  {
   "cell_type": "markdown",
   "id": "2ea37cea",
   "metadata": {},
   "source": [
    "<b>Since the main focus for this analysis is on NYC Buses and Subways, I will be removing all other agencies from the dataset</b>\n",
    "\n",
    "\n",
    "<b>Buses:</b>"
   ]
  },
  {
   "cell_type": "code",
   "execution_count": null,
   "id": "fbd3d543",
   "metadata": {},
   "outputs": [],
   "source": [
    "buses_df = complaints_df[complaints_df['agency'] == 'NYC Buses']"
   ]
  },
  {
   "cell_type": "code",
   "execution_count": null,
   "id": "5691fd19",
   "metadata": {},
   "outputs": [],
   "source": [
    "# Confirming that \n",
    "buses_df['agency'].value_counts()"
   ]
  },
  {
   "cell_type": "code",
   "execution_count": null,
   "id": "9284a7cb",
   "metadata": {},
   "outputs": [],
   "source": [
    "buses_df['commendation_or_complaint'].value_counts()"
   ]
  },
  {
   "cell_type": "markdown",
   "id": "80b23a93",
   "metadata": {},
   "source": [
    "<b> Subways </b>"
   ]
  },
  {
   "cell_type": "code",
   "execution_count": null,
   "id": "b01b592d",
   "metadata": {},
   "outputs": [],
   "source": [
    "subways_df = complaints_df[complaints_df['agency'] == 'Subways']"
   ]
  },
  {
   "cell_type": "code",
   "execution_count": null,
   "id": "03df6f3e",
   "metadata": {},
   "outputs": [],
   "source": [
    "subways_df['agency'].value_counts()"
   ]
  },
  {
   "cell_type": "code",
   "execution_count": null,
   "id": "289dce6e",
   "metadata": {},
   "outputs": [],
   "source": [
    "subways_df['commendation_or_complaint'].value_counts()"
   ]
  },
  {
   "cell_type": "markdown",
   "id": "f61f8e2f",
   "metadata": {},
   "source": [
    "<hr>"
   ]
  },
  {
   "cell_type": "markdown",
   "id": "89c8c05a",
   "metadata": {},
   "source": [
    "## Buses"
   ]
  },
  {
   "cell_type": "markdown",
   "id": "d5a80d05",
   "metadata": {},
   "source": [
    "<b>Note:</b> <b>Data Dictionary Referenced</b> \n",
    "\n",
    "Below are the data subcategories for the data label(column) considered valid values by MTA's Data Dictionary\n",
    "\n",
    "\n",
    "<b> Subject Matter </b>\n",
    "- Buses\n",
    "- Commendation \n",
    "- Complaint\n",
    "- Customer\n",
    "- Employees\n",
    "- Ferry Service – Hudson River\n",
    "- MetroCard/Tickets/EZ-Pass & Tolls \n",
    "- MTA Agency Cars / Trucks\n",
    "- Policies, Rules & Regulations\n",
    "- Public Hearing\n",
    "- Schedules / Reservations\n",
    "- Station/Bus Stop/Facility/Structure \n",
    "- Telephone / Web Site / Mobile Apps  Trains\n",
    "- Travel Disruption / Trip Problem"
   ]
  },
  {
   "cell_type": "code",
   "execution_count": null,
   "id": "7fa1fb65",
   "metadata": {},
   "outputs": [],
   "source": [
    "buses_df = buses_df.reset_index(drop=True)"
   ]
  },
  {
   "cell_type": "code",
   "execution_count": null,
   "id": "baa4ecec",
   "metadata": {
    "scrolled": true
   },
   "outputs": [],
   "source": [
    "buses_df.head()"
   ]
  },
  {
   "cell_type": "code",
   "execution_count": null,
   "id": "5d4c4f57",
   "metadata": {
    "scrolled": true
   },
   "outputs": [],
   "source": [
    "buses_df['agency'].value_counts()"
   ]
  },
  {
   "cell_type": "code",
   "execution_count": null,
   "id": "3df22b53",
   "metadata": {
    "scrolled": true
   },
   "outputs": [],
   "source": [
    "buses_df['subject_matter'].value_counts()"
   ]
  },
  {
   "cell_type": "code",
   "execution_count": null,
   "id": "404fa43b",
   "metadata": {},
   "outputs": [],
   "source": [
    "# Employee can be merged to Employees\n",
    "buses_df['subject_matter'] = buses_df['subject_matter'].replace({'Employee': 'Employees'})\n",
    "\n",
    "\n",
    "# Bus Operator/Driver can be merged with Employees\n",
    "buses_df['subject_matter'] = buses_df['subject_matter'].replace({'Bus Operator / Driver': 'Employees'})\n",
    "\n",
    "\n",
    "# Bus Stop can be merged to Station/Bus Stop/Facility/Structure\n",
    "buses_df['subject_matter'] = buses_df['subject_matter'].replace({'Bus Stop': 'Station /Bus Stop /Facility /Structure'})\n",
    "\n",
    "\n",
    "# Bus is merged with Buses\n",
    "buses_df['subject_matter'] = buses_df['subject_matter'].replace({'Bus': 'Buses'})\n"
   ]
  },
  {
   "cell_type": "code",
   "execution_count": null,
   "id": "fb31953b",
   "metadata": {
    "scrolled": true
   },
   "outputs": [],
   "source": [
    "# buses_df['subject_matter'].value_counts()"
   ]
  },
  {
   "cell_type": "code",
   "execution_count": null,
   "id": "e75df811",
   "metadata": {},
   "outputs": [],
   "source": [
    "# removes spaces empty spaces between forward slashes \n",
    "buses_df['subject_matter'] = buses_df['subject_matter'].str.replace(\" /\",\"/\")\n",
    "buses_df['subject_matter'] = buses_df['subject_matter'].str.replace(\"/ \",\"/\")\n",
    "buses_df['subject_matter'] = buses_df['subject_matter'].str.replace(\" / \",\"/\")\n"
   ]
  },
  {
   "cell_type": "code",
   "execution_count": null,
   "id": "d6870aca",
   "metadata": {
    "scrolled": true
   },
   "outputs": [],
   "source": [
    "# verifying updates\n",
    "buses_df['subject_matter'].value_counts()"
   ]
  },
  {
   "cell_type": "code",
   "execution_count": null,
   "id": "c2c7b190",
   "metadata": {},
   "outputs": [],
   "source": [
    "buses_df.groupby(['subject_detail']).size()"
   ]
  },
  {
   "cell_type": "code",
   "execution_count": null,
   "id": "18a4e5d9",
   "metadata": {},
   "outputs": [],
   "source": [
    "# Removing empty spaces between forward slashes for subject detail column\n",
    "buses_df['subject_detail'] = buses_df['subject_detail'].str.replace(\" / \",\"/\")\n",
    "buses_df['subject_detail'] = buses_df['subject_detail'].str.replace(\"/ \",\"/\")\n",
    "buses_df['subject_detail'] = buses_df['subject_detail'].str.replace(\" / \",\"/\")\n"
   ]
  },
  {
   "cell_type": "code",
   "execution_count": null,
   "id": "713bb81d",
   "metadata": {
    "scrolled": true
   },
   "outputs": [],
   "source": [
    "buses_df['subject_detail'].value_counts().nlargest(50).sort_index(ascending=True)"
   ]
  },
  {
   "cell_type": "code",
   "execution_count": null,
   "id": "3b593924",
   "metadata": {
    "scrolled": true
   },
   "outputs": [],
   "source": [
    "buses_df['subject_detail'].value_counts().nsmallest(50).sort_index(ascending=True)"
   ]
  },
  {
   "cell_type": "code",
   "execution_count": null,
   "id": "6fb8f103",
   "metadata": {},
   "outputs": [],
   "source": [
    "# Three subcategories with bus dispatcher \n",
    "buses_df['subject_detail'] = buses_df['subject_detail'].str.replace(\"Bus Dispatcher\",\"Dispatcher\")\n",
    "buses_df['subject_detail'] = buses_df['subject_detail'].str.replace(\"Bus Dispatcher \",\"Dispatcher\")\n",
    "buses_df['subject_detail'] = buses_df['subject_detail'].str.replace(\"Bus Operator/Driver\", \"Dispatcher\")\n",
    "\n",
    "# CSR Customer Service Office ( E&C ) grouped with CSR - Customer Service Office \n",
    "buses_df['subject_detail'] = buses_df['subject_detail'].str.replace('CSR Customer Service Office ( E&C )' ,\"Customer Service Office\", regex=False)\n",
    "\n",
    "# Three subcategories with tickets, grouping them with Ticket Machines\n",
    "buses_df['subject_detail'] = buses_df['subject_detail'].str.replace(\"Tickets\",\"Ticket Machines\")\n",
    "buses_df['subject_detail'] = buses_df['subject_detail'].str.replace(\"Ticket Machine\",\"Ticket Machines\")\n",
    "buses_df['subject_detail'] = buses_df['subject_detail'].str.replace(\"Ticket Machiness\",\"Ticket Machines\")\n",
    "\n",
    "# Correct spelling mistake and group with similar group \n",
    "buses_df['subject_detail'] = buses_df['subject_detail'].str.replace(\"Rude Impropper Language\",\"Rude/Improper Language\")\n",
    "\n",
    "# Published Schedules grouped with Scheduled Service \n",
    "buses_df['subject_detail'] = buses_df['subject_detail'].str.replace(\"Schedules\",\"Scheduled Service\")\n"
   ]
  },
  {
   "cell_type": "code",
   "execution_count": null,
   "id": "498122b7",
   "metadata": {
    "scrolled": true
   },
   "outputs": [],
   "source": [
    "# buses_df['subject_detail'].value_counts().nlargest(50).sort_index(ascending=True)"
   ]
  },
  {
   "cell_type": "code",
   "execution_count": null,
   "id": "ee1dd0d3",
   "metadata": {
    "scrolled": true
   },
   "outputs": [],
   "source": [
    "# buses_df['subject_detail'].value_counts().nsmallest(50).sort_index(ascending=True)"
   ]
  },
  {
   "cell_type": "code",
   "execution_count": null,
   "id": "0cdc6801",
   "metadata": {},
   "outputs": [],
   "source": [
    "# create a dataframe with issue detail feature with total counts throughout all years, was taken to excel sheet for further exploration to topic\n",
    "\n",
    "valuecounts_issue_details = buses_df['issue_detail'].value_counts().to_frame('counts')"
   ]
  },
  {
   "cell_type": "code",
   "execution_count": null,
   "id": "01d50089",
   "metadata": {
    "scrolled": false
   },
   "outputs": [],
   "source": [
    "valuecounts_issue_details"
   ]
  },
  {
   "cell_type": "code",
   "execution_count": null,
   "id": "81b89948",
   "metadata": {},
   "outputs": [],
   "source": [
    "# exported dataframe to csv \n",
    "# valuecounts_issue_details.to_csv('value_counts_issue_detail.csv')"
   ]
  },
  {
   "cell_type": "code",
   "execution_count": null,
   "id": "c3ec6421",
   "metadata": {},
   "outputs": [],
   "source": [
    "# Grouping duplicates with different letter cases in issue_details that were spotted in the csv excel sheet from above\n",
    "\n",
    "\n",
    "# Accessibility Due To Construction\n",
    "buses_df['issue_detail'] = buses_df['issue_detail'].str.replace(\"Accessibility Due To Construction\",\"Accessibility due to construction\")\n",
    "\n",
    "# Lack of Refused to deploy lift\n",
    "buses_df['issue_detail'] = buses_df['issue_detail'].str.replace(\"Lack of Refused to deploy lift\",\"Refused Lift\")\n",
    "\n",
    "# Dark\n",
    "buses_df['issue_detail'] = buses_df['issue_detail'].str.replace(\"Dark\",\"Too Dark\")\n",
    "\n",
    "# Assaulted by employee\n",
    "buses_df['issue_detail'] = buses_df['issue_detail'].str.replace(\"Assaulted by employee\",\"Assaulted By Employee\")\n",
    "\n",
    "# Failure to make scheduled stop\n",
    "buses_df['issue_detail'] = buses_df['issue_detail'].str.replace(\"Failure to make scheduled stop\",\"Failure To Make Scheduled Stop\")\n",
    "\n",
    "# Not working / Out of service\n",
    "buses_df['issue_detail'] = buses_df['issue_detail'].str.replace(\"Not working / Out of service\",\"Not Working / Out of Service\")\n",
    "\n",
    "# Rude/Inappropriate language\n",
    "buses_df['issue_detail'] = buses_df['issue_detail'].str.replace(\"Rude / Inappropriate Language\",\"Rude/ Inappropriate Language\")\n",
    "buses_df['issue_detail'] = buses_df['issue_detail'].str.replace(\"Rude/Inappropriate language\",\"Rude/ Inappropriate Language\")\n",
    "\n",
    "\n",
    "# Schedules is merged with Scheduled Service\n",
    "buses_df['subject_matter'] = buses_df['subject_matter'].replace({'Schedules ': 'Scheduled Service'})\n",
    "\n",
    "\n",
    "# ----------------------------------------------------------------------\n",
    "# Grouped into same group: Availability, Quality, Accuracy of Visual & Audio Information\n",
    "# Can be referenced in the order list of excel sheet \n",
    "\n",
    "\n",
    "# Accuracy / Correctness - Audio\n",
    "buses_df['issue_detail'] = buses_df['issue_detail'].str.replace(\"Accuracy / Correctness - Audio\",\"Availability, Quality, Accuracy of Visual & Audio Information\")\n",
    "\n",
    "\n",
    "# Accuracy / Correctness - Visual / Text\n",
    "buses_df['issue_detail'] = buses_df['issue_detail'].str.replace(\"Accuracy / Correctness - Visual / Text\",\"Availability, Quality, Accuracy of Visual & Audio Information\")\n",
    "\n",
    "\n",
    "# Announcements / Messages\n",
    "buses_df['issue_detail'] = buses_df['issue_detail'].str.replace(\"Announcements / Messages\",\"Availability, Quality, Accuracy of Visual & Audio Information\")\n",
    "\n",
    "\n",
    "# Clarity - Audio\n",
    "buses_df['issue_detail'] = buses_df['issue_detail'].str.replace(\"Clarity - Audio\",\"Availability, Quality, Accuracy of Visual & Audio Information\")\n",
    "\n",
    "\n",
    "# Clarity - Visual / Text\n",
    "buses_df['issue_detail'] = buses_df['issue_detail'].str.replace(\"Clarity - Visual / Text\",\"Availability, Quality, Accuracy of Visual & Audio Information\")\n",
    "\n",
    "\n",
    "# Completeness / Sufficiency - Audio\n",
    "buses_df['issue_detail'] = buses_df['issue_detail'].str.replace(\"Completeness / Sufficiency - Audio\",\"Availability, Quality, Accuracy of Visual & Audio Information\")\n",
    "\n",
    "\n",
    "# Completeness / Sufficiency - Visual/Text\n",
    "buses_df['issue_detail'] = buses_df['issue_detail'].str.replace(\"Completeness / Sufficiency - Visual / Te\",\"Availability, Quality, Accuracy of Visual & Audio Information\")\n",
    "\n",
    "buses_df['issue_detail'] = buses_df['issue_detail'].str.replace(\"Completeness / Sufficiency - Visual/Test\",\"Availability, Quality, Accuracy of Visual & Audio Information\")\n",
    "\n",
    "buses_df['issue_detail'] = buses_df['issue_detail'].str.replace(\"Completeness / Sufficiency - Visual/Text\",\"Availability, Quality, Accuracy of Visual & Audio Information\")\n",
    "\n",
    "\n",
    "# Hard To Read\n",
    "buses_df['issue_detail'] = buses_df['issue_detail'].str.replace(\"Hard To Read\",\"Availability, Quality, Accuracy of Visual & Audio Information\")\n",
    "\n",
    "\n",
    "# Incorrect Information Displayed\n",
    "buses_df['issue_detail'] = buses_df['issue_detail'].str.replace(\"Incorrect Information Displayed\",\"Availability, Quality, Accuracy of Visual & Audio Information\")\n",
    "\n",
    "\n",
    "# Information Not Available\n",
    "buses_df['issue_detail'] = buses_df['issue_detail'].str.replace(\"Information Not Available\",\"Availability, Quality, Accuracy of Visual & Audio Information\")\n",
    "\n",
    "\n",
    "# Lack of information\n",
    "buses_df['issue_detail'] = buses_df['issue_detail'].str.replace(\"Lack of information\",\"Availability, Quality, Accuracy of Visual & Audio Information\")\n",
    "\n",
    "\n",
    "# No Announcement / Messages - Visual/Text\n",
    "buses_df['issue_detail'] = buses_df['issue_detail'].str.replace(\"No annoucement / messages - Visual / Text\",\"Availability, Quality, Accuracy of Visual & Audio Information\")\n",
    "buses_df['issue_detail'] = buses_df['issue_detail'].str.replace(\"No Announcement / Messages - Visual/Text\",\"Availability, Quality, Accuracy of Visual & Audio Information\")\n",
    "\n",
    "\n",
    "# No Announcement / Messages - Audio\n",
    "buses_df['issue_detail'] = buses_df['issue_detail'].str.replace(\"No Announcement / Messages - Audio\",\"Availability, Quality, Accuracy of Visual & Audio Information\")\n",
    "\n",
    "\n",
    "# Volume Too Low\n",
    "buses_df['issue_detail'] = buses_df['issue_detail'].str.replace(\"Volume Too Low\",\"Availability, Quality, Accuracy of Visual & Audio Information\")\n"
   ]
  },
  {
   "cell_type": "code",
   "execution_count": null,
   "id": "0186b8d7",
   "metadata": {},
   "outputs": [],
   "source": [
    "buses_df['year'].value_counts()"
   ]
  },
  {
   "cell_type": "code",
   "execution_count": null,
   "id": "2784a62e",
   "metadata": {},
   "outputs": [],
   "source": [
    "buses_df['quarter'].value_counts()"
   ]
  },
  {
   "cell_type": "code",
   "execution_count": null,
   "id": "40eccfec",
   "metadata": {},
   "outputs": [],
   "source": [
    "# thought about making a borough new column from line routes to see\n",
    "# which borough has the most complaints, but given the number of \n",
    "# no values, 146,092, decided not to move forward with this\n",
    "\n",
    "buses_df['branch_line_route'].value_counts().sort_values(ascending=False)"
   ]
  },
  {
   "cell_type": "markdown",
   "id": "a7fdca1d",
   "metadata": {},
   "source": [
    "## NYC Bus Complaints Data    \n"
   ]
  },
  {
   "cell_type": "code",
   "execution_count": null,
   "id": "cd5ec4b6",
   "metadata": {},
   "outputs": [],
   "source": [
    "buses_df = buses_df.reset_index(drop=True)"
   ]
  },
  {
   "cell_type": "code",
   "execution_count": null,
   "id": "332ad984",
   "metadata": {},
   "outputs": [],
   "source": [
    "buses_df.head()"
   ]
  },
  {
   "cell_type": "code",
   "execution_count": null,
   "id": "73101a1b",
   "metadata": {},
   "outputs": [],
   "source": [
    "buses_df['subject_matter'].value_counts()"
   ]
  },
  {
   "cell_type": "code",
   "execution_count": null,
   "id": "dadfc44e",
   "metadata": {},
   "outputs": [],
   "source": [
    "buses_df.info()"
   ]
  },
  {
   "cell_type": "code",
   "execution_count": null,
   "id": "260d1ef6",
   "metadata": {},
   "outputs": [],
   "source": [
    "# buses_df.describe()"
   ]
  },
  {
   "cell_type": "code",
   "execution_count": null,
   "id": "1e9de554",
   "metadata": {},
   "outputs": [],
   "source": [
    "# Converting year and quarter columns from float64 to integers \n",
    "buses_df = buses_df.astype({\"year\":'int', \"quarter\":'int'})"
   ]
  },
  {
   "cell_type": "code",
   "execution_count": null,
   "id": "37dfd9c5",
   "metadata": {},
   "outputs": [],
   "source": [
    "# buses_df.info()"
   ]
  },
  {
   "cell_type": "code",
   "execution_count": null,
   "id": "0749072b",
   "metadata": {},
   "outputs": [],
   "source": [
    "buses_df['subject_matter'].value_counts()"
   ]
  },
  {
   "cell_type": "code",
   "execution_count": null,
   "id": "5b46483b",
   "metadata": {},
   "outputs": [],
   "source": [
    "buses_df['subject_detail'].value_counts()"
   ]
  },
  {
   "cell_type": "code",
   "execution_count": null,
   "id": "e5a73bf9",
   "metadata": {},
   "outputs": [],
   "source": [
    "# saved dataset to a csv file\n",
    "# buses_df.to_csv('bus_complaints.csv')"
   ]
  },
  {
   "cell_type": "code",
   "execution_count": null,
   "id": "8cea301a",
   "metadata": {},
   "outputs": [],
   "source": [
    "buses_df['subject_detail'] = buses_df['subject_detail'].str.replace('No Value', '')"
   ]
  },
  {
   "cell_type": "code",
   "execution_count": null,
   "id": "1d9612a6",
   "metadata": {},
   "outputs": [],
   "source": [
    "buses_df['subject_detail'].isna().value_counts()"
   ]
  },
  {
   "cell_type": "code",
   "execution_count": null,
   "id": "60de21ca",
   "metadata": {},
   "outputs": [],
   "source": [
    "buses_df['issue_detail'].isna().value_counts()"
   ]
  },
  {
   "cell_type": "code",
   "execution_count": null,
   "id": "abf2c163",
   "metadata": {},
   "outputs": [],
   "source": [
    "buses_df.head()"
   ]
  },
  {
   "cell_type": "code",
   "execution_count": null,
   "id": "f40f1eb6",
   "metadata": {},
   "outputs": [],
   "source": [
    "# total complaints by year \n",
    "pd.pivot_table(buses_df, values=\"agency\", index=[\"year\", \"quarter\"], aggfunc='count')"
   ]
  },
  {
   "cell_type": "code",
   "execution_count": null,
   "id": "fd6159ab",
   "metadata": {},
   "outputs": [],
   "source": [
    "sns.set()\n",
    "sns.set_style(\"white\")\n",
    "sns.set_style(\"ticks\")\n",
    "pd.pivot_table(buses_df, values=\"agency\", index=['year','quarter'], aggfunc='count').plot()\n",
    "plt.ylabel('total complaints by year');"
   ]
  },
  {
   "cell_type": "code",
   "execution_count": null,
   "id": "bc1050d1",
   "metadata": {},
   "outputs": [],
   "source": [
    "subject_detail_pv = pd.pivot_table(buses_df,values=\"year\", index='subject_detail', aggfunc='count')\n"
   ]
  },
  {
   "cell_type": "code",
   "execution_count": null,
   "id": "f7b2d0a7",
   "metadata": {},
   "outputs": [],
   "source": [
    "subject_detail_pv = subject_detail_pv.sort_values('year', ascending=False)\n",
    "subject_detail_pv.head(11)"
   ]
  },
  {
   "cell_type": "code",
   "execution_count": null,
   "id": "cedecec8",
   "metadata": {},
   "outputs": [],
   "source": [
    "issue_detail_pv = pd.pivot_table(complaints_df,values=\"year\", index='issue_detail', aggfunc='count')"
   ]
  },
  {
   "cell_type": "code",
   "execution_count": null,
   "id": "98c6f8d5",
   "metadata": {},
   "outputs": [],
   "source": [
    "issues_details_pv = issue_detail_pv.sort_values('year', ascending=False)\n",
    "issues_details_pv.head(10)"
   ]
  },
  {
   "cell_type": "code",
   "execution_count": null,
   "id": "dfb9f8b7",
   "metadata": {},
   "outputs": [],
   "source": [
    "issue_pv2 = pd.pivot_table(complaints_df,values='year', index=['issue_detail','quarter'], aggfunc='count')"
   ]
  },
  {
   "cell_type": "code",
   "execution_count": null,
   "id": "19a14cd7",
   "metadata": {},
   "outputs": [],
   "source": [
    "issue_pv2 = issue_pv2.sort_values('year', ascending=False)\n",
    "issue_pv2.head(15)"
   ]
  },
  {
   "cell_type": "markdown",
   "id": "19351a71",
   "metadata": {},
   "source": [
    "## Identifying indicators \n",
    "\n",
    "- General Accessibility (direct)\n",
    "- Mobility Accessibility (direct) — subset of general\n",
    "- Accessibility (indirect)\n",
    "- Rider comfort & Service reliability\n"
   ]
  },
  {
   "cell_type": "markdown",
   "id": "5175b9d7",
   "metadata": {},
   "source": [
    "Notes:\n",
    "- for those categories flagged directly, depending how many they are, create a bar graph by year \n",
    "- counts and total for each year comparing to perecent to bus all related complaints \n",
    "- percent of all complaints only on buses "
   ]
  },
  {
   "cell_type": "code",
   "execution_count": null,
   "id": "7354e3f1",
   "metadata": {},
   "outputs": [],
   "source": [
    "# General Accessibility (direct)\n",
    "\n",
    "general_accessibility_categories = [\n",
    "                                    'Accessibility due to construction',\n",
    "                                    'Quality, Accuracy of Visual & Audio Information'\n",
    "                                    'Bypassed Wheelchair',\n",
    "                                    'Completeness / Sufficiency - Audio',\n",
    "                                    'Completeness/ Sufficiency - Visual Text',\n",
    "                                    'Denied access to service animal',\n",
    "                                    'Departed before mobility customer was secure',\n",
    "                                    'Did not announce routes/ stops',\n",
    "                                    'Did not kneel/curb bus to facilitate boarding',\n",
    "                                    'Did not let disabled customer board',\n",
    "                                    'Difficulty Boarding / Entering',\n",
    "                                    'Difficulty Leaving / Exiting',\n",
    "                                    'Failed to provide satisfactory service to persons with disabilities',\n",
    "                                    'Failed to Secure Wheelchair',\n",
    "                                    'Frequency - Audio',\n",
    "                                    'Frequency - Visual / Text',\n",
    "                                    'Information Not Available',\n",
    "                                    'Insists on securing mobility device',\n",
    "                                    'Refused Lift',\n",
    "                                    'Refused to waive fare for personal care attendent',\n",
    "                                    'Requested documentation for service animal',\n",
    "                                    'Snow / Ice',\n",
    "                                    'Timeliness - Audio',\n",
    "                                    'Timeliness - Visual / Text',\n",
    "                                    'Unable To Exit At Station / Stop',\n",
    "                                    ]"
   ]
  },
  {
   "cell_type": "code",
   "execution_count": null,
   "id": "6dac156c",
   "metadata": {},
   "outputs": [],
   "source": [
    "buses_df['general_accessiblity_direct'] = buses_df['issue_detail'].apply(lambda x: 1 if x in general_accessibility_categories else 0)"
   ]
  },
  {
   "cell_type": "code",
   "execution_count": null,
   "id": "97817164",
   "metadata": {},
   "outputs": [],
   "source": [
    "buses_df.head()"
   ]
  },
  {
   "cell_type": "code",
   "execution_count": null,
   "id": "9771e7ea",
   "metadata": {},
   "outputs": [],
   "source": [
    "buses_df['general_accessiblity_direct'].value_counts()"
   ]
  },
  {
   "cell_type": "code",
   "execution_count": null,
   "id": "92055470",
   "metadata": {},
   "outputs": [],
   "source": [
    "# Mobility Accessibility (direct) — subset of general\n",
    "\n",
    "mobil_accessibility_categories = [\n",
    "                                 'Accessibility due to construction',\n",
    "                                 'Bypassed Wheelchair',\n",
    "                                 'Departed before mobility customer was secure',\n",
    "                                 'Did not kneel/curb bus to facilitate boarding',\n",
    "                                 'Did not let disabled customer board',\n",
    "                                 'Difficulty Boarding / Entering',\n",
    "                                 'Difficulty Leaving / Exiting',\n",
    "                                 'Failed to provide satisfactory service to persons with disabilities',\n",
    "                                 'Failed to Secure Wheelchair',\n",
    "                                 'Insists on securing mobility device',\n",
    "                                 'Refused Lift',\n",
    "                                 'Snow / Ice',\n",
    "                                 'Unable To Exit At Station / Stop',\n",
    "                                 ]\n"
   ]
  },
  {
   "cell_type": "code",
   "execution_count": null,
   "id": "c5d5dc9d",
   "metadata": {},
   "outputs": [],
   "source": [
    "buses_df['mobility_accessibility_direct_subset_of_general'] = buses_df['issue_detail'].apply(lambda x: 1 if x in mobil_accessibility_categories else 0)\n"
   ]
  },
  {
   "cell_type": "code",
   "execution_count": null,
   "id": "03450b2a",
   "metadata": {
    "scrolled": true
   },
   "outputs": [],
   "source": [
    "buses_df['mobility_accessibility_direct_subset_of_general'].value_counts()"
   ]
  },
  {
   "cell_type": "code",
   "execution_count": null,
   "id": "f322466c",
   "metadata": {},
   "outputs": [],
   "source": [
    "# Accessibility (indirect)\n",
    "\n",
    "accessibility_indirect_categories = [\n",
    "                                    'Accessibility due to construction',\n",
    "                                    'Dark',\n",
    "                                    'Did not adjust boarding location',\n",
    "                                    'Left at Wrong Stop',\n",
    "                                    'Too Dark'\n",
    "                                     ]"
   ]
  },
  {
   "cell_type": "code",
   "execution_count": null,
   "id": "4924d74d",
   "metadata": {},
   "outputs": [],
   "source": [
    "buses_df['accessibility_indirect'] = buses_df['issue_detail'].apply(lambda x: 1 if x in accessibility_indirect_categories else 0)\n"
   ]
  },
  {
   "cell_type": "code",
   "execution_count": null,
   "id": "b6929cae",
   "metadata": {},
   "outputs": [],
   "source": [
    "buses_df['accessibility_indirect'].value_counts()"
   ]
  },
  {
   "cell_type": "code",
   "execution_count": null,
   "id": "a08d1770",
   "metadata": {},
   "outputs": [],
   "source": [
    "# Rider comfort & Service reliability\n",
    "\n",
    "rider_comfort_service_categories = [\n",
    "                                    'A/C Not Available',\n",
    "                                    'Abandoned bus (intentional)',\n",
    "                                    'Abandoned Customer at Station/Stop',\n",
    "                                    'Appearance / Cleanliness',\n",
    "                                    'Assaulted By Employee',\n",
    "                                    'Bunching',\n",
    "                                    'Bypassed Requested Stop',\n",
    "                                    'Cancelled',\n",
    "                                    'Cleanliness',\n",
    "                                    'Closed Door Before Customer Could Board',\n",
    "                                    'Crowding',\n",
    "                                    'Customer Service / Behavior',\n",
    "                                    'Damaged / Defective',\n",
    "                                    'Early',\n",
    "                                    'Failure To Make Scheduled Stop',\n",
    "                                    'Flagging / Failed To Stop',\n",
    "                                    'Heat Not Available',\n",
    "                                    'Illegal Parking',\n",
    "                                    'Improper Function/Needs Repair/Damaged',\n",
    "                                    'Intent To Harm / Intimidate',\n",
    "                                    'Late / Delay',\n",
    "                                    'Litter / Garbage / Debris',\n",
    "                                    'Long Wait / Long Lines',\n",
    "                                    'Lost While Driving',\n",
    "                                    'Noise',\n",
    "                                    'Not Helpful',\n",
    "                                    'Not Working/ Out of Service',\n",
    "                                    'Operating Conditions / Availability',\n",
    "                                    'Operating Safety',\n",
    "                                    'Late / Delay',\n",
    "                                    'Pigeons / Birds',\n",
    "                                    'Planned Detour',\n",
    "                                    'Poor Location',\n",
    "                                    'Rats / Mice',\n",
    "                                    'Reckless Driving',\n",
    "                                    'Rude / Inappropriate Language',\n",
    "                                    'Slow Driving',\n",
    "                                    'Smoke / Fumes / Smell / Odor',\n",
    "                                    'Smoking',\n",
    "                                    'Terminated Route Early',\n",
    "                                    'Too Cold',\n",
    "                                    'Too Hot',\n",
    "                                    'Traffic Delays',\n",
    "                                    'Transfer Lost',\n",
    "                                    'Transfer Lost',\n",
    "                                    'Trip Cancelled',\n",
    "                                    'Vehicle Breakdown',\n",
    "                                    ]"
   ]
  },
  {
   "cell_type": "code",
   "execution_count": null,
   "id": "0d2294b3",
   "metadata": {},
   "outputs": [],
   "source": [
    "buses_df['rider_comfort_and_service_reliability'] = buses_df['issue_detail'].apply(lambda x: 1 if x in rider_comfort_service_categories else 0)\n"
   ]
  },
  {
   "cell_type": "code",
   "execution_count": null,
   "id": "3fd88f14",
   "metadata": {},
   "outputs": [],
   "source": [
    "buses_df['rider_comfort_and_service_reliability'].value_counts()"
   ]
  },
  {
   "cell_type": "code",
   "execution_count": null,
   "id": "204e628b",
   "metadata": {},
   "outputs": [],
   "source": [
    "buses_df.head()"
   ]
  },
  {
   "cell_type": "markdown",
   "id": "bd3e0da3",
   "metadata": {},
   "source": [
    "## Indicator Tables by Year"
   ]
  },
  {
   "cell_type": "code",
   "execution_count": null,
   "id": "698f5970",
   "metadata": {},
   "outputs": [],
   "source": [
    "buses_df.head()"
   ]
  },
  {
   "cell_type": "code",
   "execution_count": null,
   "id": "ee39e8bf",
   "metadata": {
    "scrolled": false
   },
   "outputs": [],
   "source": [
    "# General Accessibility(Direct)\n",
    "\n",
    "general_accessibility_by_year = buses_df[buses_df['general_accessiblity_direct'] == 1.0 ]\n",
    "\n",
    "\n",
    "general_accessibility_by_year = pd.pivot_table(general_accessibility_by_year,columns=\"year\", values=\"general_accessiblity_direct\",index='issue_detail' ,aggfunc='count')\n",
    "general_accessibility_by_year"
   ]
  },
  {
   "cell_type": "code",
   "execution_count": null,
   "id": "97b7732f",
   "metadata": {},
   "outputs": [],
   "source": [
    "# Mobility Accessibility (direct) — subset of general\n",
    "\n",
    "mobility_accessibility_by_year = buses_df[buses_df['mobility_accessibility_direct_subset_of_general'] == 1.0 ]\n",
    "\n",
    "mobility_accessibility_by_year = pd.pivot_table(mobility_accessibility_by_year, columns=\"year\", values=\"mobility_accessibility_direct_subset_of_general\",index='issue_detail' ,aggfunc='count')\n",
    "mobility_accessibility_by_year"
   ]
  },
  {
   "cell_type": "code",
   "execution_count": null,
   "id": "dd55e6af",
   "metadata": {},
   "outputs": [],
   "source": [
    "# Accessibility (indirect)\n",
    "\n",
    "indirect_accessibility_by_year = buses_df[buses_df['accessibility_indirect'] == 1 ]\n",
    "\n",
    "\n",
    "indirect_accessibility_by_year = pd.pivot_table(indirect_accessibility_by_year,columns=\"year\", values=\"accessibility_indirect\",index='issue_detail' ,aggfunc='count')\n",
    "indirect_accessibility_by_year"
   ]
  },
  {
   "cell_type": "code",
   "execution_count": null,
   "id": "083f4771",
   "metadata": {},
   "outputs": [],
   "source": [
    "# Rider comfort & Service reliability\n",
    "\n",
    "rider_comfort_service_reliability_by_year = buses_df[buses_df['rider_comfort_and_service_reliability'] == 1 ]\n",
    "\n",
    "\n",
    "rider_comfort_service_reliability_by_year = pd.pivot_table(rider_comfort_service_reliability_by_year, columns=\"year\", values=\"rider_comfort_and_service_reliability\",index='issue_detail' ,aggfunc='count')\n",
    "rider_comfort_service_reliability_by_year"
   ]
  },
  {
   "cell_type": "code",
   "execution_count": null,
   "id": "6f4943c0",
   "metadata": {},
   "outputs": [],
   "source": [
    "#  Exporting all four tables as csv\n",
    "\n",
    "# general_accessibility_by_year.to_csv('general_accessibility_by_year.csv')\n",
    "\n",
    "# mobility_accessibility_by_year.to_csv('mobility_accessibility_by_year.csv')\n",
    "\n",
    "# indirect_accessibility_by_year.to_csv('indirect_accessibility_by_year.csv')\n",
    "\n",
    "# rider_comfort_service_reliability_by_year.to_csv('rider_comfort_service_reliability_by_year.csv')\n"
   ]
  },
  {
   "cell_type": "markdown",
   "id": "36e9e3e5",
   "metadata": {},
   "source": [
    "<hr>"
   ]
  },
  {
   "cell_type": "markdown",
   "id": "e893cc6a",
   "metadata": {},
   "source": [
    "## Subways"
   ]
  },
  {
   "cell_type": "code",
   "execution_count": null,
   "id": "7fc5e527",
   "metadata": {},
   "outputs": [],
   "source": [
    "subways_df.head()"
   ]
  },
  {
   "cell_type": "code",
   "execution_count": null,
   "id": "3b280aae",
   "metadata": {},
   "outputs": [],
   "source": [
    "subways_df['commendation_or_complaint'].value_counts()"
   ]
  },
  {
   "cell_type": "code",
   "execution_count": null,
   "id": "a6cc9892",
   "metadata": {},
   "outputs": [],
   "source": [
    "# reindexing the dataframe\n",
    "subways_df = subways_df.reset_index()"
   ]
  },
  {
   "cell_type": "code",
   "execution_count": null,
   "id": "03aea7a7",
   "metadata": {},
   "outputs": [],
   "source": [
    "# dropping index column from original dataframe\n",
    "\n",
    "subways_df.drop('index',inplace=True, axis=1)"
   ]
  },
  {
   "cell_type": "code",
   "execution_count": null,
   "id": "9731edb3",
   "metadata": {},
   "outputs": [],
   "source": [
    "subways_df.info()"
   ]
  },
  {
   "cell_type": "code",
   "execution_count": null,
   "id": "53e87667",
   "metadata": {},
   "outputs": [],
   "source": [
    "# Converting year and quarter columns from float64 to integers \n",
    "subways_df = subways_df.astype({\"year\":'int', \"quarter\":'int'})"
   ]
  },
  {
   "cell_type": "code",
   "execution_count": null,
   "id": "6734e810",
   "metadata": {},
   "outputs": [],
   "source": [
    "subways_df.head()"
   ]
  },
  {
   "cell_type": "code",
   "execution_count": null,
   "id": "7f0e4eb8",
   "metadata": {},
   "outputs": [],
   "source": [
    "subways_df['subject_matter'].value_counts()"
   ]
  },
  {
   "cell_type": "code",
   "execution_count": null,
   "id": "b6faba64",
   "metadata": {},
   "outputs": [],
   "source": [
    "# subways_df['subject_detail'].value_counts().nlargest(60)"
   ]
  },
  {
   "cell_type": "code",
   "execution_count": null,
   "id": "f3e65784",
   "metadata": {},
   "outputs": [],
   "source": [
    "# subways_df['subject_detail'].value_counts().nsmallest(52)"
   ]
  },
  {
   "cell_type": "code",
   "execution_count": null,
   "id": "7ff2a641",
   "metadata": {},
   "outputs": [],
   "source": [
    "# grouping elevator and elevators together\n",
    "subways_df['subject_detail'] = subways_df['subject_detail'].replace({'Elevator': 'Elevators'})"
   ]
  },
  {
   "cell_type": "markdown",
   "id": "d2aff10a",
   "metadata": {},
   "source": [
    "<b> Since we are only interested in seeing subject details related to elevators, the dataframe will be updated with only those cases for further data cleaning </b>"
   ]
  },
  {
   "cell_type": "code",
   "execution_count": null,
   "id": "322eeb55",
   "metadata": {},
   "outputs": [],
   "source": [
    "subways_df = subways_df[subways_df['subject_detail'] == 'Elevators']"
   ]
  },
  {
   "cell_type": "code",
   "execution_count": null,
   "id": "0a3b43d0",
   "metadata": {},
   "outputs": [],
   "source": [
    "subways_df.shape"
   ]
  },
  {
   "cell_type": "code",
   "execution_count": null,
   "id": "42118663",
   "metadata": {},
   "outputs": [],
   "source": [
    "# reindexing the dataframe\n",
    "subways_df = subways_df.reset_index()"
   ]
  },
  {
   "cell_type": "code",
   "execution_count": null,
   "id": "e3769cfa",
   "metadata": {},
   "outputs": [],
   "source": [
    "# dropping index column from original dataframe\n",
    "\n",
    "subways_df.drop('index',inplace=True, axis=1)"
   ]
  },
  {
   "cell_type": "code",
   "execution_count": null,
   "id": "bc19b33a",
   "metadata": {},
   "outputs": [],
   "source": [
    "subways_df.head()"
   ]
  },
  {
   "cell_type": "code",
   "execution_count": null,
   "id": "44f9ee3c",
   "metadata": {
    "scrolled": true
   },
   "outputs": [],
   "source": [
    "subways_df.shape"
   ]
  },
  {
   "cell_type": "code",
   "execution_count": null,
   "id": "32b9949e",
   "metadata": {
    "scrolled": true
   },
   "outputs": [],
   "source": [
    "subways_df.info()"
   ]
  },
  {
   "cell_type": "code",
   "execution_count": null,
   "id": "e2e0088e",
   "metadata": {},
   "outputs": [],
   "source": [
    "subways_df['issue_detail'].isna().value_counts()"
   ]
  },
  {
   "cell_type": "code",
   "execution_count": null,
   "id": "c202ff47",
   "metadata": {},
   "outputs": [],
   "source": [
    "subways_df['issue_detail'].value_counts().nlargest(25)"
   ]
  },
  {
   "cell_type": "code",
   "execution_count": null,
   "id": "aecbbc12",
   "metadata": {},
   "outputs": [],
   "source": [
    "elevator_df = pd.pivot_table(subways_df,\n",
    "               columns=\"year\",\n",
    "               index='issue_detail',\n",
    "               aggfunc='count')\n"
   ]
  },
  {
   "cell_type": "code",
   "execution_count": null,
   "id": "57caa21f",
   "metadata": {},
   "outputs": [],
   "source": [
    "elevator_df"
   ]
  },
  {
   "cell_type": "code",
   "execution_count": null,
   "id": "d056b598",
   "metadata": {},
   "outputs": [],
   "source": [
    "# elevator_df.to_csv('subway_elevators.csv')"
   ]
  },
  {
   "cell_type": "code",
   "execution_count": null,
   "id": "64294039",
   "metadata": {},
   "outputs": [],
   "source": [
    "elevator_by_year_df = pd.pivot_table(subways_df,\n",
    "               columns=\"year\",\n",
    "               values='agency',\n",
    "               aggfunc='count')\n",
    "elevator_by_year_df"
   ]
  },
  {
   "cell_type": "code",
   "execution_count": null,
   "id": "b5179388",
   "metadata": {},
   "outputs": [],
   "source": [
    "# elevator_by_year_df.to_csv('elevator_by_year.csv')"
   ]
  },
  {
   "cell_type": "code",
   "execution_count": null,
   "id": "f535f18b",
   "metadata": {},
   "outputs": [],
   "source": []
  }
 ],
 "metadata": {
  "kernelspec": {
   "display_name": "Python 3 (ipykernel)",
   "language": "python",
   "name": "python3"
  },
  "language_info": {
   "codemirror_mode": {
    "name": "ipython",
    "version": 3
   },
   "file_extension": ".py",
   "mimetype": "text/x-python",
   "name": "python",
   "nbconvert_exporter": "python",
   "pygments_lexer": "ipython3",
   "version": "3.10.6"
  }
 },
 "nbformat": 4,
 "nbformat_minor": 5
}
