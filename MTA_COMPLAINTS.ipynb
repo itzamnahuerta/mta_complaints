{
 "cells": [
  {
   "cell_type": "markdown",
   "id": "326d8461",
   "metadata": {},
   "source": [
    "# MTA Customer Feedback Data (2014-2019)\n",
    "\n",
    "[Source Link](https://data.ny.gov/Transportation/MTA-Customer-Feedback-Data-Beginning-2014/tppa-s6t6)\n",
    "\n",
    "[Data Dictionary](https://data.ny.gov/api/views/tppa-s6t6/files/647be5e6-126f-47f2-8fa0-6175ccedda89?download=true&filename=MTA_CustomerFeedbackRightNowData_DataDictionary.pdf)\n",
    "\n",
    "This dataset is generated from the Customer Relationship Management System. This system allows the public to correspond to the MTA about complaints or commendations in a variety of categories. The dataset contains information about areas of customer service and how that service was rated.\n"
   ]
  },
  {
   "cell_type": "markdown",
   "id": "4572b0bb",
   "metadata": {},
   "source": [
    "## Findings\n",
    "\n",
    "- 623,757 records in MTA original customer feedback dataset\n",
    "- 307,078 customer feedback accounts for NYC Buses or 49.23% of the total records\n",
    "- 293,093 are bus complaints or 95.45% of NYC Buses customer feedback data\n",
    "- 2,763 complaints directly related to accessibility\n",
    "- 1,539\n"
   ]
  },
  {
   "cell_type": "code",
   "execution_count": 81,
   "id": "cf73023d",
   "metadata": {},
   "outputs": [],
   "source": [
    "import pandas as pd \n",
    "import numpy as np\n",
    "import seaborn as sns\n",
    "%matplotlib inline\n",
    "import matplotlib.pyplot as plt"
   ]
  },
  {
   "cell_type": "code",
   "execution_count": 82,
   "id": "a5779d38",
   "metadata": {},
   "outputs": [],
   "source": [
    "df = pd.read_csv('../MTA_data/MTA_Customer_Feedback/ORIGINAL_MTA_Customer_Feedback_Data__Beginning_2014.csv')"
   ]
  },
  {
   "cell_type": "code",
   "execution_count": 90,
   "id": "67481631",
   "metadata": {},
   "outputs": [
    {
     "data": {
      "text/plain": [
       "(623757, 8)"
      ]
     },
     "execution_count": 90,
     "metadata": {},
     "output_type": "execute_result"
    }
   ],
   "source": [
    "df.shape"
   ]
  },
  {
   "cell_type": "code",
   "execution_count": 83,
   "id": "9f912c09",
   "metadata": {
    "scrolled": true
   },
   "outputs": [
    {
     "data": {
      "text/html": [
       "<div>\n",
       "<style scoped>\n",
       "    .dataframe tbody tr th:only-of-type {\n",
       "        vertical-align: middle;\n",
       "    }\n",
       "\n",
       "    .dataframe tbody tr th {\n",
       "        vertical-align: top;\n",
       "    }\n",
       "\n",
       "    .dataframe thead th {\n",
       "        text-align: right;\n",
       "    }\n",
       "</style>\n",
       "<table border=\"1\" class=\"dataframe\">\n",
       "  <thead>\n",
       "    <tr style=\"text-align: right;\">\n",
       "      <th></th>\n",
       "      <th>Agency</th>\n",
       "      <th>Commendation or Complaint</th>\n",
       "      <th>Subject Matter</th>\n",
       "      <th>Subject Detail</th>\n",
       "      <th>Issue Detail</th>\n",
       "      <th>Year</th>\n",
       "      <th>Quarter</th>\n",
       "      <th>Branch/Line/Route</th>\n",
       "    </tr>\n",
       "  </thead>\n",
       "  <tbody>\n",
       "    <tr>\n",
       "      <th>0</th>\n",
       "      <td>Buses</td>\n",
       "      <td>Commendation</td>\n",
       "      <td>Employee</td>\n",
       "      <td>Bus Operator / Driver</td>\n",
       "      <td>Customer Service / Behavior</td>\n",
       "      <td>2019.0</td>\n",
       "      <td>4.0</td>\n",
       "      <td>B67</td>\n",
       "    </tr>\n",
       "    <tr>\n",
       "      <th>1</th>\n",
       "      <td>Buses</td>\n",
       "      <td>Commendation</td>\n",
       "      <td>Employee</td>\n",
       "      <td>Bus Operator / Driver</td>\n",
       "      <td>Customer Service / Behavior</td>\n",
       "      <td>2019.0</td>\n",
       "      <td>4.0</td>\n",
       "      <td>SIM33C</td>\n",
       "    </tr>\n",
       "    <tr>\n",
       "      <th>2</th>\n",
       "      <td>Buses</td>\n",
       "      <td>Commendation</td>\n",
       "      <td>Employee</td>\n",
       "      <td>Bus Operator / Driver</td>\n",
       "      <td>Customer Service / Behavior</td>\n",
       "      <td>2019.0</td>\n",
       "      <td>4.0</td>\n",
       "      <td>B8</td>\n",
       "    </tr>\n",
       "    <tr>\n",
       "      <th>3</th>\n",
       "      <td>Buses</td>\n",
       "      <td>Commendation</td>\n",
       "      <td>Employee</td>\n",
       "      <td>Bus Operator / Driver</td>\n",
       "      <td>Customer Service / Behavior</td>\n",
       "      <td>2019.0</td>\n",
       "      <td>4.0</td>\n",
       "      <td>BM4</td>\n",
       "    </tr>\n",
       "    <tr>\n",
       "      <th>4</th>\n",
       "      <td>Buses</td>\n",
       "      <td>Commendation</td>\n",
       "      <td>Employee</td>\n",
       "      <td>Bus Operator / Driver</td>\n",
       "      <td>Customer Service / Behavior</td>\n",
       "      <td>2019.0</td>\n",
       "      <td>4.0</td>\n",
       "      <td>Q46</td>\n",
       "    </tr>\n",
       "  </tbody>\n",
       "</table>\n",
       "</div>"
      ],
      "text/plain": [
       "  Agency Commendation or Complaint Subject Matter         Subject Detail  \\\n",
       "0  Buses              Commendation       Employee  Bus Operator / Driver   \n",
       "1  Buses              Commendation       Employee  Bus Operator / Driver   \n",
       "2  Buses              Commendation       Employee  Bus Operator / Driver   \n",
       "3  Buses              Commendation       Employee  Bus Operator / Driver   \n",
       "4  Buses              Commendation       Employee  Bus Operator / Driver   \n",
       "\n",
       "                  Issue Detail    Year  Quarter Branch/Line/Route  \n",
       "0  Customer Service / Behavior  2019.0      4.0               B67  \n",
       "1  Customer Service / Behavior  2019.0      4.0            SIM33C  \n",
       "2  Customer Service / Behavior  2019.0      4.0                B8  \n",
       "3  Customer Service / Behavior  2019.0      4.0               BM4  \n",
       "4  Customer Service / Behavior  2019.0      4.0               Q46  "
      ]
     },
     "execution_count": 83,
     "metadata": {},
     "output_type": "execute_result"
    }
   ],
   "source": [
    "df.head()"
   ]
  },
  {
   "cell_type": "code",
   "execution_count": 84,
   "id": "5d755792",
   "metadata": {},
   "outputs": [],
   "source": [
    "# Column Names\n",
    "# - Replacing empty space between words with an underscore\n",
    "# - Lowercasing all column names \n",
    "\n",
    "df.columns = df.columns.str.replace(' ', '_').str.lower()"
   ]
  },
  {
   "cell_type": "code",
   "execution_count": 85,
   "id": "f3c6f5ad",
   "metadata": {},
   "outputs": [],
   "source": [
    "# Column Name\n",
    "# Going to also rename Branch/Line/Route to branch_line_route\n",
    "df = df.rename(columns={'branch/line/route':'branch_line_route'})"
   ]
  },
  {
   "cell_type": "code",
   "execution_count": 86,
   "id": "b6868d75",
   "metadata": {
    "scrolled": false
   },
   "outputs": [
    {
     "data": {
      "text/html": [
       "<div>\n",
       "<style scoped>\n",
       "    .dataframe tbody tr th:only-of-type {\n",
       "        vertical-align: middle;\n",
       "    }\n",
       "\n",
       "    .dataframe tbody tr th {\n",
       "        vertical-align: top;\n",
       "    }\n",
       "\n",
       "    .dataframe thead th {\n",
       "        text-align: right;\n",
       "    }\n",
       "</style>\n",
       "<table border=\"1\" class=\"dataframe\">\n",
       "  <thead>\n",
       "    <tr style=\"text-align: right;\">\n",
       "      <th></th>\n",
       "      <th>agency</th>\n",
       "      <th>commendation_or_complaint</th>\n",
       "      <th>subject_matter</th>\n",
       "      <th>subject_detail</th>\n",
       "      <th>issue_detail</th>\n",
       "      <th>year</th>\n",
       "      <th>quarter</th>\n",
       "      <th>branch_line_route</th>\n",
       "    </tr>\n",
       "  </thead>\n",
       "  <tbody>\n",
       "    <tr>\n",
       "      <th>0</th>\n",
       "      <td>Buses</td>\n",
       "      <td>Commendation</td>\n",
       "      <td>Employee</td>\n",
       "      <td>Bus Operator / Driver</td>\n",
       "      <td>Customer Service / Behavior</td>\n",
       "      <td>2019.0</td>\n",
       "      <td>4.0</td>\n",
       "      <td>B67</td>\n",
       "    </tr>\n",
       "    <tr>\n",
       "      <th>1</th>\n",
       "      <td>Buses</td>\n",
       "      <td>Commendation</td>\n",
       "      <td>Employee</td>\n",
       "      <td>Bus Operator / Driver</td>\n",
       "      <td>Customer Service / Behavior</td>\n",
       "      <td>2019.0</td>\n",
       "      <td>4.0</td>\n",
       "      <td>SIM33C</td>\n",
       "    </tr>\n",
       "    <tr>\n",
       "      <th>2</th>\n",
       "      <td>Buses</td>\n",
       "      <td>Commendation</td>\n",
       "      <td>Employee</td>\n",
       "      <td>Bus Operator / Driver</td>\n",
       "      <td>Customer Service / Behavior</td>\n",
       "      <td>2019.0</td>\n",
       "      <td>4.0</td>\n",
       "      <td>B8</td>\n",
       "    </tr>\n",
       "    <tr>\n",
       "      <th>3</th>\n",
       "      <td>Buses</td>\n",
       "      <td>Commendation</td>\n",
       "      <td>Employee</td>\n",
       "      <td>Bus Operator / Driver</td>\n",
       "      <td>Customer Service / Behavior</td>\n",
       "      <td>2019.0</td>\n",
       "      <td>4.0</td>\n",
       "      <td>BM4</td>\n",
       "    </tr>\n",
       "    <tr>\n",
       "      <th>4</th>\n",
       "      <td>Buses</td>\n",
       "      <td>Commendation</td>\n",
       "      <td>Employee</td>\n",
       "      <td>Bus Operator / Driver</td>\n",
       "      <td>Customer Service / Behavior</td>\n",
       "      <td>2019.0</td>\n",
       "      <td>4.0</td>\n",
       "      <td>Q46</td>\n",
       "    </tr>\n",
       "  </tbody>\n",
       "</table>\n",
       "</div>"
      ],
      "text/plain": [
       "  agency commendation_or_complaint subject_matter         subject_detail  \\\n",
       "0  Buses              Commendation       Employee  Bus Operator / Driver   \n",
       "1  Buses              Commendation       Employee  Bus Operator / Driver   \n",
       "2  Buses              Commendation       Employee  Bus Operator / Driver   \n",
       "3  Buses              Commendation       Employee  Bus Operator / Driver   \n",
       "4  Buses              Commendation       Employee  Bus Operator / Driver   \n",
       "\n",
       "                  issue_detail    year  quarter branch_line_route  \n",
       "0  Customer Service / Behavior  2019.0      4.0               B67  \n",
       "1  Customer Service / Behavior  2019.0      4.0            SIM33C  \n",
       "2  Customer Service / Behavior  2019.0      4.0                B8  \n",
       "3  Customer Service / Behavior  2019.0      4.0               BM4  \n",
       "4  Customer Service / Behavior  2019.0      4.0               Q46  "
      ]
     },
     "execution_count": 86,
     "metadata": {},
     "output_type": "execute_result"
    }
   ],
   "source": [
    "df.head()"
   ]
  },
  {
   "cell_type": "markdown",
   "id": "52eba554",
   "metadata": {},
   "source": [
    "<br>"
   ]
  },
  {
   "cell_type": "markdown",
   "id": "7fd250ac",
   "metadata": {},
   "source": [
    "<div class=\"alert alert-block alert-info\">\n",
    "<b>Note:</b> <b>Data Dictionary Referenced</b> \n",
    "\n",
    "Below are the data subcategories for the data label(column) considered valid values by MTA's Data Dictionary\n",
    "</div>\n",
    "\n",
    "\n",
    "\n",
    "<b> Agency</b>\n",
    "- Long Island Rail Road\n",
    "- Metro-North Railroad\n",
    "- NYC Buses\n",
    "- Subways   "
   ]
  },
  {
   "cell_type": "code",
   "execution_count": 87,
   "id": "613a341e",
   "metadata": {
    "scrolled": true
   },
   "outputs": [
    {
     "data": {
      "text/plain": [
       "NYC Buses                   300660\n",
       "Subways                     220800\n",
       "Long Island Rail Road        53179\n",
       "Metro-North Railroad         42601\n",
       "Buses                         6418\n",
       "MTA Corporate Office            83\n",
       "MTA Capital Construction        13\n",
       "Agency                           2\n",
       "MTA Board                        1\n",
       "Name: agency, dtype: int64"
      ]
     },
     "execution_count": 87,
     "metadata": {},
     "output_type": "execute_result"
    }
   ],
   "source": [
    "df['agency'].value_counts()"
   ]
  },
  {
   "cell_type": "code",
   "execution_count": 88,
   "id": "7de9e501",
   "metadata": {},
   "outputs": [],
   "source": [
    "# Merging Buses to NYC Buses since they are identified that way in the data dictionary document\n",
    "df['agency'] = df['agency'].replace({'Buses': 'NYC Buses'})"
   ]
  },
  {
   "cell_type": "code",
   "execution_count": 9,
   "id": "54a84e29",
   "metadata": {},
   "outputs": [
    {
     "data": {
      "text/plain": [
       "NYC Buses                   307078\n",
       "Subways                     220800\n",
       "Long Island Rail Road        53179\n",
       "Metro-North Railroad         42601\n",
       "MTA Corporate Office            83\n",
       "MTA Capital Construction        13\n",
       "Agency                           2\n",
       "MTA Board                        1\n",
       "Name: agency, dtype: int64"
      ]
     },
     "execution_count": 9,
     "metadata": {},
     "output_type": "execute_result"
    }
   ],
   "source": [
    "# Confirming Subways was merged \n",
    "df['agency'].value_counts()"
   ]
  },
  {
   "cell_type": "markdown",
   "id": "255c2698",
   "metadata": {},
   "source": [
    "<b>Since the main focus for this analysis is on NYC Buses, I will be removing all other agencies from the dataset</b>"
   ]
  },
  {
   "cell_type": "code",
   "execution_count": 10,
   "id": "d0b031b4",
   "metadata": {},
   "outputs": [],
   "source": [
    "df = df[df['agency'] == 'NYC Buses']"
   ]
  },
  {
   "cell_type": "code",
   "execution_count": 11,
   "id": "5fbd569b",
   "metadata": {
    "scrolled": true
   },
   "outputs": [
    {
     "data": {
      "text/plain": [
       "NYC Buses    307078\n",
       "Name: agency, dtype: int64"
      ]
     },
     "execution_count": 11,
     "metadata": {},
     "output_type": "execute_result"
    }
   ],
   "source": [
    "# Confirming that \n",
    "df['agency'].value_counts()"
   ]
  },
  {
   "cell_type": "code",
   "execution_count": 12,
   "id": "8bbc89c0",
   "metadata": {
    "scrolled": false
   },
   "outputs": [
    {
     "data": {
      "text/plain": [
       "Complaint       293093\n",
       "Commendation     13985\n",
       "Name: commendation_or_complaint, dtype: int64"
      ]
     },
     "execution_count": 12,
     "metadata": {},
     "output_type": "execute_result"
    }
   ],
   "source": [
    "df['commendation_or_complaint'].value_counts()"
   ]
  },
  {
   "cell_type": "markdown",
   "id": "49b3f472",
   "metadata": {},
   "source": [
    "<div class=\"alert alert-block alert-info\">\n",
    "<b>Note:</b> <b>Data Dictionary Referenced</b> \n",
    "\n",
    "Below are the data subcategories for the data label(column) considered valid values by MTA's Data Dictionary\n",
    "</div>\n",
    "\n",
    "\n",
    "\n",
    "<b> Subject Matter </b>\n",
    "- Buses\n",
    "- Commendation \n",
    "- Complaint\n",
    "- Customer\n",
    "- Employees\n",
    "- Ferry Service – Hudson River\n",
    "- MetroCard/Tickets/EZ-Pass & Tolls \n",
    "- MTA Agency Cars / Trucks\n",
    "- Policies, Rules & Regulations\n",
    "- Public Hearing\n",
    "- Schedules / Reservations\n",
    "- Station/Bus Stop/Facility/Structure \n",
    "- Telephone / Web Site / Mobile Apps  Trains\n",
    "- Travel Disruption / Trip Problem"
   ]
  },
  {
   "cell_type": "code",
   "execution_count": 13,
   "id": "efb90b01",
   "metadata": {},
   "outputs": [
    {
     "data": {
      "text/plain": [
       "Employees                                 171434\n",
       "Travel Disruption / Trip Problem           77981\n",
       "Buses                                      26200\n",
       "Station /Bus Stop /Facility /Structure     13611\n",
       "Telephone / Website / Mobile Apps           3563\n",
       "Employee                                    3479\n",
       "Schedules / Reservations                    2646\n",
       "Service                                     2007\n",
       "MetroCard/Tickets/E-Zpass & Tolls           1786\n",
       "Customer                                    1655\n",
       "Policies, Rules & Regulations               1526\n",
       "Bus                                          570\n",
       "Bus Stop                                     270\n",
       "MTA Agency Cars / Trucks                     139\n",
       "Complaint                                    107\n",
       "Reasonable Modification                       40\n",
       "Other                                         34\n",
       "Public Hearing                                15\n",
       "Commendation                                  12\n",
       "Bus Operator / Driver                          3\n",
       "Name: subject_matter, dtype: int64"
      ]
     },
     "execution_count": 13,
     "metadata": {},
     "output_type": "execute_result"
    }
   ],
   "source": [
    "df['subject_matter'].value_counts()"
   ]
  },
  {
   "cell_type": "code",
   "execution_count": 14,
   "id": "600f3fb0",
   "metadata": {},
   "outputs": [],
   "source": [
    "# Employee can be merged to Employees\n",
    "\n",
    "df['subject_matter'] = df['subject_matter'].replace({'Employee': 'Employees'})\n",
    "\n",
    "# Bus Operator/Driver can be merged with Employees\n",
    "df['subject_matter'] = df['subject_matter'].replace({'Bus Operator / Driver': 'Employees'})\n",
    "\n",
    "\n",
    "# Bus Stop can be merged to Station/Bus Stop/Facility/Structure\n",
    "df['subject_matter'] = df['subject_matter'].replace({'Bus Stop': 'Station /Bus Stop /Facility /Structure'})\n",
    "\n",
    "# Bus is merged with Buses\n",
    "df['subject_matter'] = df['subject_matter'].replace({'Bus': 'Buses'})\n",
    "\n"
   ]
  },
  {
   "cell_type": "code",
   "execution_count": 15,
   "id": "0d83b69c",
   "metadata": {},
   "outputs": [
    {
     "data": {
      "text/plain": [
       "Employees                                 174916\n",
       "Travel Disruption / Trip Problem           77981\n",
       "Buses                                      26770\n",
       "Station /Bus Stop /Facility /Structure     13881\n",
       "Telephone / Website / Mobile Apps           3563\n",
       "Schedules / Reservations                    2646\n",
       "Service                                     2007\n",
       "MetroCard/Tickets/E-Zpass & Tolls           1786\n",
       "Customer                                    1655\n",
       "Policies, Rules & Regulations               1526\n",
       "MTA Agency Cars / Trucks                     139\n",
       "Complaint                                    107\n",
       "Reasonable Modification                       40\n",
       "Other                                         34\n",
       "Public Hearing                                15\n",
       "Commendation                                  12\n",
       "Name: subject_matter, dtype: int64"
      ]
     },
     "execution_count": 15,
     "metadata": {},
     "output_type": "execute_result"
    }
   ],
   "source": [
    "df['subject_matter'].value_counts()"
   ]
  },
  {
   "cell_type": "code",
   "execution_count": 16,
   "id": "9dddd795",
   "metadata": {},
   "outputs": [],
   "source": [
    "# Removing empty subcategories with \"/\"\n",
    "df['subject_matter'] = df['subject_matter'].str.replace('Travel Disruption / Trip Problem', 'Travel Disruption/Trip Problem')\n",
    "df['subject_matter'] = df['subject_matter'].str.replace('Station /Bus Stop /Facility /Structure', 'Station/Bus Stop/Facility/Structure')\n",
    "df['subject_matter'] = df['subject_matter'].str.replace('Telephone / Website / Mobile Apps', 'Telephone/Website/Mobile Apps')\n",
    "df['subject_matter'] = df['subject_matter'].str.replace('Schedules / Reservations', 'Schedules/Reservations')\n",
    "df['subject_matter'] = df['subject_matter'].str.replace('MTA Agency Cars / Trucks', 'MTA Agency Cars/Trucks')\n"
   ]
  },
  {
   "cell_type": "code",
   "execution_count": 17,
   "id": "0af9b6b1",
   "metadata": {},
   "outputs": [
    {
     "data": {
      "text/plain": [
       "Employees                              174916\n",
       "Travel Disruption/Trip Problem          77981\n",
       "Buses                                   26770\n",
       "Station/Bus Stop/Facility/Structure     13881\n",
       "Telephone/Website/Mobile Apps            3563\n",
       "Schedules/Reservations                   2646\n",
       "Service                                  2007\n",
       "MetroCard/Tickets/E-Zpass & Tolls        1786\n",
       "Customer                                 1655\n",
       "Policies, Rules & Regulations            1526\n",
       "MTA Agency Cars/Trucks                    139\n",
       "Complaint                                 107\n",
       "Reasonable Modification                    40\n",
       "Other                                      34\n",
       "Public Hearing                             15\n",
       "Commendation                               12\n",
       "Name: subject_matter, dtype: int64"
      ]
     },
     "execution_count": 17,
     "metadata": {},
     "output_type": "execute_result"
    }
   ],
   "source": [
    "df['subject_matter'].value_counts()"
   ]
  },
  {
   "cell_type": "code",
   "execution_count": 18,
   "id": "ec1aa5e2",
   "metadata": {},
   "outputs": [],
   "source": [
    "# Removing empty spaces between /\n",
    "df['subject_detail'] = df['subject_detail'].str.replace(\" / \",\"/\")\n",
    "\n",
    "# Replace string No Value to nan\n",
    "# df['subject_detail'] = df['subject_detail'].str.replace(\"No Value\",\"\")\n",
    "\n",
    "# Correct spelling mistake and group with similar group \n",
    "df['subject_detail'] = df['subject_detail'].str.replace(\"Rude Impropper Language\",\"Rude/Improper Language\")\n",
    "\n",
    "# df['subject_detail'] = df['subject_detail'].str.replace(\"\",\"\")\n",
    "\n",
    "# Three subcategories with tickets, grouping them with Ticket Machines\n",
    "df['subject_detail'] = df['subject_detail'].str.replace(\"Tickets\",\"Ticket Machines\")\n",
    "df['subject_detail'] = df['subject_detail'].str.replace(\"Ticket Machine\",\"Ticket Machines\")\n",
    "\n",
    "\n",
    "# Three subcategories with bus dispatcher \n",
    "\n",
    "df['subject_detail'] = df['subject_detail'].str.replace(\"Bus Dispatcher\",\"Bus Operator/Driver\")\n",
    "# df['subject_detail'] = df['subject_detail'].str.replace(\"Bus Dispatcher\",\"Bus Operator/Driver\")\n"
   ]
  },
  {
   "cell_type": "code",
   "execution_count": 19,
   "id": "c8ee0222",
   "metadata": {
    "scrolled": true
   },
   "outputs": [
    {
     "data": {
      "text/plain": [
       "Bus Operator/Driver              167398\n",
       "Bus/Vehicle - General             95558\n",
       "No Value                          11274\n",
       "Ticket Machiness                   7062\n",
       "Bus Stop                           4928\n",
       "                                  ...  \n",
       "Weapons/Dangerous Instruments         1\n",
       "Illegal Merchandise Sales             1\n",
       "Alcohol Consumption                   1\n",
       "Littering                             1\n",
       "Open Containers                       1\n",
       "Name: subject_detail, Length: 101, dtype: int64"
      ]
     },
     "execution_count": 19,
     "metadata": {},
     "output_type": "execute_result"
    }
   ],
   "source": [
    "df['subject_detail'].value_counts()"
   ]
  },
  {
   "cell_type": "code",
   "execution_count": 20,
   "id": "e5d83437",
   "metadata": {},
   "outputs": [],
   "source": [
    "# df['subject_detail'].value_counts().nlargest(60)"
   ]
  },
  {
   "cell_type": "code",
   "execution_count": 21,
   "id": "dc9eedb8",
   "metadata": {
    "scrolled": false
   },
   "outputs": [],
   "source": [
    "# df['subject_detail'].value_counts().nsmallest(52)"
   ]
  },
  {
   "cell_type": "code",
   "execution_count": 22,
   "id": "a682bda8",
   "metadata": {
    "scrolled": false
   },
   "outputs": [],
   "source": [
    "# create a dataframe with issue detail feature with total counts throughout all years, was taken to excel sheet for further exploration to topic\n",
    "\n",
    "valuecounts_issues = df['issue_detail'].value_counts().to_frame('counts')"
   ]
  },
  {
   "cell_type": "code",
   "execution_count": 23,
   "id": "6c6f759c",
   "metadata": {},
   "outputs": [
    {
     "data": {
      "text/html": [
       "<div>\n",
       "<style scoped>\n",
       "    .dataframe tbody tr th:only-of-type {\n",
       "        vertical-align: middle;\n",
       "    }\n",
       "\n",
       "    .dataframe tbody tr th {\n",
       "        vertical-align: top;\n",
       "    }\n",
       "\n",
       "    .dataframe thead th {\n",
       "        text-align: right;\n",
       "    }\n",
       "</style>\n",
       "<table border=\"1\" class=\"dataframe\">\n",
       "  <thead>\n",
       "    <tr style=\"text-align: right;\">\n",
       "      <th></th>\n",
       "      <th>counts</th>\n",
       "    </tr>\n",
       "  </thead>\n",
       "  <tbody>\n",
       "    <tr>\n",
       "      <th>Late / Delay</th>\n",
       "      <td>54695</td>\n",
       "    </tr>\n",
       "    <tr>\n",
       "      <th>Flagging / Failed To Stop</th>\n",
       "      <td>32880</td>\n",
       "    </tr>\n",
       "    <tr>\n",
       "      <th>Rude / Inappropriate Language</th>\n",
       "      <td>25321</td>\n",
       "    </tr>\n",
       "    <tr>\n",
       "      <th>Reckless Driving</th>\n",
       "      <td>22918</td>\n",
       "    </tr>\n",
       "    <tr>\n",
       "      <th>Failure To Make Scheduled Stop</th>\n",
       "      <td>13085</td>\n",
       "    </tr>\n",
       "    <tr>\n",
       "      <th>...</th>\n",
       "      <td>...</td>\n",
       "    </tr>\n",
       "    <tr>\n",
       "      <th>Failure to make scheduled stop</th>\n",
       "      <td>1</td>\n",
       "    </tr>\n",
       "    <tr>\n",
       "      <th>Very Helpful/Friendly</th>\n",
       "      <td>1</td>\n",
       "    </tr>\n",
       "    <tr>\n",
       "      <th>Did not adjust boarding location</th>\n",
       "      <td>1</td>\n",
       "    </tr>\n",
       "    <tr>\n",
       "      <th>Trespass</th>\n",
       "      <td>1</td>\n",
       "    </tr>\n",
       "    <tr>\n",
       "      <th>Pricing / Payment / Billing Error</th>\n",
       "      <td>1</td>\n",
       "    </tr>\n",
       "  </tbody>\n",
       "</table>\n",
       "<p>199 rows × 1 columns</p>\n",
       "</div>"
      ],
      "text/plain": [
       "                                   counts\n",
       "Late / Delay                        54695\n",
       "Flagging / Failed To Stop           32880\n",
       "Rude / Inappropriate Language       25321\n",
       "Reckless Driving                    22918\n",
       "Failure To Make Scheduled Stop      13085\n",
       "...                                   ...\n",
       "Failure to make scheduled stop          1\n",
       "Very Helpful/Friendly                   1\n",
       "Did not adjust boarding location        1\n",
       "Trespass                                1\n",
       "Pricing / Payment / Billing Error       1\n",
       "\n",
       "[199 rows x 1 columns]"
      ]
     },
     "execution_count": 23,
     "metadata": {},
     "output_type": "execute_result"
    }
   ],
   "source": [
    "valuecounts_issues"
   ]
  },
  {
   "cell_type": "code",
   "execution_count": 24,
   "id": "36fcef3f",
   "metadata": {},
   "outputs": [],
   "source": [
    "# exported dataframe to csv \n",
    "# valuecounts_issues.to_csv('value_counts_issue_detail.csv')"
   ]
  },
  {
   "cell_type": "code",
   "execution_count": 25,
   "id": "f34813a3",
   "metadata": {},
   "outputs": [
    {
     "data": {
      "text/plain": [
       "2019.0    79310\n",
       "2016.0    63062\n",
       "2018.0    58726\n",
       "2017.0    53617\n",
       "2015.0    30105\n",
       "2014.0    22258\n",
       "Name: year, dtype: int64"
      ]
     },
     "execution_count": 25,
     "metadata": {},
     "output_type": "execute_result"
    }
   ],
   "source": [
    "df['year'].value_counts()"
   ]
  },
  {
   "cell_type": "code",
   "execution_count": 26,
   "id": "bb1a1e50",
   "metadata": {},
   "outputs": [
    {
     "data": {
      "text/plain": [
       "2.0    91954\n",
       "4.0    81121\n",
       "3.0    71009\n",
       "1.0    62994\n",
       "Name: quarter, dtype: int64"
      ]
     },
     "execution_count": 26,
     "metadata": {},
     "output_type": "execute_result"
    }
   ],
   "source": [
    "df['quarter'].value_counts()"
   ]
  },
  {
   "cell_type": "code",
   "execution_count": 27,
   "id": "576c1fc5",
   "metadata": {},
   "outputs": [
    {
     "data": {
      "text/plain": [
       "No Value    44827\n",
       "M15          3292\n",
       "B15          2254\n",
       "B41          2229\n",
       "B44          2215\n",
       "            ...  \n",
       "Bushwick        1\n",
       "N88             1\n",
       "N14             1\n",
       "N2              1\n",
       "N55             1\n",
       "Name: branch_line_route, Length: 518, dtype: int64"
      ]
     },
     "execution_count": 27,
     "metadata": {},
     "output_type": "execute_result"
    }
   ],
   "source": [
    "# Nice to have, look at this later \n",
    "\n",
    "df['branch_line_route'].value_counts().sort_values(ascending=False)"
   ]
  },
  {
   "cell_type": "markdown",
   "id": "75aa0f41",
   "metadata": {},
   "source": [
    "## NYC Bus Complaints Data    "
   ]
  },
  {
   "cell_type": "code",
   "execution_count": 28,
   "id": "c66b79f1",
   "metadata": {
    "scrolled": true
   },
   "outputs": [],
   "source": [
    "complaints_df = df[df['commendation_or_complaint'] == 'Complaint']"
   ]
  },
  {
   "cell_type": "code",
   "execution_count": 29,
   "id": "9ee07de3",
   "metadata": {
    "scrolled": true
   },
   "outputs": [
    {
     "data": {
      "text/html": [
       "<div>\n",
       "<style scoped>\n",
       "    .dataframe tbody tr th:only-of-type {\n",
       "        vertical-align: middle;\n",
       "    }\n",
       "\n",
       "    .dataframe tbody tr th {\n",
       "        vertical-align: top;\n",
       "    }\n",
       "\n",
       "    .dataframe thead th {\n",
       "        text-align: right;\n",
       "    }\n",
       "</style>\n",
       "<table border=\"1\" class=\"dataframe\">\n",
       "  <thead>\n",
       "    <tr style=\"text-align: right;\">\n",
       "      <th></th>\n",
       "      <th>agency</th>\n",
       "      <th>commendation_or_complaint</th>\n",
       "      <th>subject_matter</th>\n",
       "      <th>subject_detail</th>\n",
       "      <th>issue_detail</th>\n",
       "      <th>year</th>\n",
       "      <th>quarter</th>\n",
       "      <th>branch_line_route</th>\n",
       "    </tr>\n",
       "  </thead>\n",
       "  <tbody>\n",
       "    <tr>\n",
       "      <th>431</th>\n",
       "      <td>NYC Buses</td>\n",
       "      <td>Complaint</td>\n",
       "      <td>Customer</td>\n",
       "      <td>NaN</td>\n",
       "      <td>NaN</td>\n",
       "      <td>2019.0</td>\n",
       "      <td>4.0</td>\n",
       "      <td>Bx13</td>\n",
       "    </tr>\n",
       "    <tr>\n",
       "      <th>432</th>\n",
       "      <td>NYC Buses</td>\n",
       "      <td>Complaint</td>\n",
       "      <td>Employees</td>\n",
       "      <td>Bus Operator/Driver</td>\n",
       "      <td>Operating Performance</td>\n",
       "      <td>2019.0</td>\n",
       "      <td>4.0</td>\n",
       "      <td>Bx28</td>\n",
       "    </tr>\n",
       "    <tr>\n",
       "      <th>433</th>\n",
       "      <td>NYC Buses</td>\n",
       "      <td>Complaint</td>\n",
       "      <td>Buses</td>\n",
       "      <td>NaN</td>\n",
       "      <td>Appearance / Cleanliness</td>\n",
       "      <td>2019.0</td>\n",
       "      <td>4.0</td>\n",
       "      <td>S74</td>\n",
       "    </tr>\n",
       "    <tr>\n",
       "      <th>434</th>\n",
       "      <td>NYC Buses</td>\n",
       "      <td>Complaint</td>\n",
       "      <td>Service</td>\n",
       "      <td>Scheduled Service</td>\n",
       "      <td>Operating Conditions / Availability</td>\n",
       "      <td>2019.0</td>\n",
       "      <td>4.0</td>\n",
       "      <td>B47</td>\n",
       "    </tr>\n",
       "    <tr>\n",
       "      <th>435</th>\n",
       "      <td>NYC Buses</td>\n",
       "      <td>Complaint</td>\n",
       "      <td>Employees</td>\n",
       "      <td>Bus Operator/Driver</td>\n",
       "      <td>NaN</td>\n",
       "      <td>2019.0</td>\n",
       "      <td>4.0</td>\n",
       "      <td>Q100-LTD</td>\n",
       "    </tr>\n",
       "  </tbody>\n",
       "</table>\n",
       "</div>"
      ],
      "text/plain": [
       "        agency commendation_or_complaint subject_matter       subject_detail  \\\n",
       "431  NYC Buses                 Complaint       Customer                  NaN   \n",
       "432  NYC Buses                 Complaint      Employees  Bus Operator/Driver   \n",
       "433  NYC Buses                 Complaint          Buses                  NaN   \n",
       "434  NYC Buses                 Complaint        Service    Scheduled Service   \n",
       "435  NYC Buses                 Complaint      Employees  Bus Operator/Driver   \n",
       "\n",
       "                            issue_detail    year  quarter branch_line_route  \n",
       "431                                  NaN  2019.0      4.0              Bx13  \n",
       "432                Operating Performance  2019.0      4.0              Bx28  \n",
       "433             Appearance / Cleanliness  2019.0      4.0               S74  \n",
       "434  Operating Conditions / Availability  2019.0      4.0               B47  \n",
       "435                                  NaN  2019.0      4.0          Q100-LTD  "
      ]
     },
     "execution_count": 29,
     "metadata": {},
     "output_type": "execute_result"
    }
   ],
   "source": [
    "complaints_df.head()"
   ]
  },
  {
   "cell_type": "code",
   "execution_count": 30,
   "id": "8eccc68e",
   "metadata": {},
   "outputs": [
    {
     "data": {
      "text/plain": [
       "Employees                              161699\n",
       "Travel Disruption/Trip Problem          77981\n",
       "Buses                                   26256\n",
       "Station/Bus Stop/Facility/Structure     13835\n",
       "Telephone/Website/Mobile Apps            3539\n",
       "Schedules/Reservations                   2524\n",
       "Service                                  1995\n",
       "MetroCard/Tickets/E-Zpass & Tolls        1757\n",
       "Customer                                 1655\n",
       "Policies, Rules & Regulations            1517\n",
       "MTA Agency Cars/Trucks                    139\n",
       "Complaint                                 107\n",
       "Reasonable Modification                    40\n",
       "Other                                      34\n",
       "Public Hearing                             15\n",
       "Name: subject_matter, dtype: int64"
      ]
     },
     "execution_count": 30,
     "metadata": {},
     "output_type": "execute_result"
    }
   ],
   "source": [
    "complaints_df['subject_matter'].value_counts()"
   ]
  },
  {
   "cell_type": "code",
   "execution_count": 31,
   "id": "2bd1b105",
   "metadata": {
    "scrolled": true
   },
   "outputs": [
    {
     "name": "stdout",
     "output_type": "stream",
     "text": [
      "<class 'pandas.core.frame.DataFrame'>\n",
      "Int64Index: 293093 entries, 431 to 620342\n",
      "Data columns (total 8 columns):\n",
      " #   Column                     Non-Null Count   Dtype  \n",
      "---  ------                     --------------   -----  \n",
      " 0   agency                     293093 non-null  object \n",
      " 1   commendation_or_complaint  293093 non-null  object \n",
      " 2   subject_matter             293093 non-null  object \n",
      " 3   subject_detail             292555 non-null  object \n",
      " 4   issue_detail               277711 non-null  object \n",
      " 5   year                       293093 non-null  float64\n",
      " 6   quarter                    293093 non-null  float64\n",
      " 7   branch_line_route          292202 non-null  object \n",
      "dtypes: float64(2), object(6)\n",
      "memory usage: 20.1+ MB\n"
     ]
    }
   ],
   "source": [
    "complaints_df.info()"
   ]
  },
  {
   "cell_type": "code",
   "execution_count": 32,
   "id": "2763bfae",
   "metadata": {},
   "outputs": [],
   "source": [
    "# Converting year and quarter columns from float64 to integers \n",
    "complaints_df = complaints_df.astype({\"year\":'int', \"quarter\":'int'}) "
   ]
  },
  {
   "cell_type": "code",
   "execution_count": 33,
   "id": "f66ac2a2",
   "metadata": {},
   "outputs": [
    {
     "name": "stdout",
     "output_type": "stream",
     "text": [
      "<class 'pandas.core.frame.DataFrame'>\n",
      "Int64Index: 293093 entries, 431 to 620342\n",
      "Data columns (total 8 columns):\n",
      " #   Column                     Non-Null Count   Dtype \n",
      "---  ------                     --------------   ----- \n",
      " 0   agency                     293093 non-null  object\n",
      " 1   commendation_or_complaint  293093 non-null  object\n",
      " 2   subject_matter             293093 non-null  object\n",
      " 3   subject_detail             292555 non-null  object\n",
      " 4   issue_detail               277711 non-null  object\n",
      " 5   year                       293093 non-null  int64 \n",
      " 6   quarter                    293093 non-null  int64 \n",
      " 7   branch_line_route          292202 non-null  object\n",
      "dtypes: int64(2), object(6)\n",
      "memory usage: 20.1+ MB\n"
     ]
    }
   ],
   "source": [
    "complaints_df.info()"
   ]
  },
  {
   "cell_type": "code",
   "execution_count": 34,
   "id": "422512b6",
   "metadata": {},
   "outputs": [
    {
     "data": {
      "text/plain": [
       "Employees                              161699\n",
       "Travel Disruption/Trip Problem          77981\n",
       "Buses                                   26256\n",
       "Station/Bus Stop/Facility/Structure     13835\n",
       "Telephone/Website/Mobile Apps            3539\n",
       "Schedules/Reservations                   2524\n",
       "Service                                  1995\n",
       "MetroCard/Tickets/E-Zpass & Tolls        1757\n",
       "Customer                                 1655\n",
       "Policies, Rules & Regulations            1517\n",
       "MTA Agency Cars/Trucks                    139\n",
       "Complaint                                 107\n",
       "Reasonable Modification                    40\n",
       "Other                                      34\n",
       "Public Hearing                             15\n",
       "Name: subject_matter, dtype: int64"
      ]
     },
     "execution_count": 34,
     "metadata": {},
     "output_type": "execute_result"
    }
   ],
   "source": [
    "complaints_df['subject_matter'].value_counts()"
   ]
  },
  {
   "cell_type": "code",
   "execution_count": 35,
   "id": "0433a4ed",
   "metadata": {
    "scrolled": true
   },
   "outputs": [
    {
     "data": {
      "text/plain": [
       "Bus Operator/Driver          154906\n",
       "Bus/Vehicle - General         95220\n",
       "No Value                      10805\n",
       "Ticket Machiness               7054\n",
       "Bus Stop                       4906\n",
       "                              ...  \n",
       "Employee Actions/Behavior         1\n",
       "Illegal Merchandise Sales         1\n",
       "Alcohol Consumption               1\n",
       "Littering                         1\n",
       "Open Containers                   1\n",
       "Name: subject_detail, Length: 100, dtype: int64"
      ]
     },
     "execution_count": 35,
     "metadata": {},
     "output_type": "execute_result"
    }
   ],
   "source": [
    "complaints_df['subject_detail'].value_counts()"
   ]
  },
  {
   "cell_type": "code",
   "execution_count": 36,
   "id": "24287896",
   "metadata": {},
   "outputs": [],
   "source": [
    "# saved dataset to a csv file\n",
    "\n",
    "# complaints_df.to_csv('mta_complaints.csv')"
   ]
  },
  {
   "cell_type": "code",
   "execution_count": 37,
   "id": "206cf048",
   "metadata": {},
   "outputs": [],
   "source": [
    "complaints_df['subject_detail'] = complaints_df['subject_detail'].str.replace('No Value', '')"
   ]
  },
  {
   "cell_type": "code",
   "execution_count": 38,
   "id": "bd68818b",
   "metadata": {
    "scrolled": true
   },
   "outputs": [
    {
     "name": "stdout",
     "output_type": "stream",
     "text": [
      "<class 'pandas.core.frame.DataFrame'>\n",
      "Int64Index: 293093 entries, 431 to 620342\n",
      "Data columns (total 8 columns):\n",
      " #   Column                     Non-Null Count   Dtype \n",
      "---  ------                     --------------   ----- \n",
      " 0   agency                     293093 non-null  object\n",
      " 1   commendation_or_complaint  293093 non-null  object\n",
      " 2   subject_matter             293093 non-null  object\n",
      " 3   subject_detail             292555 non-null  object\n",
      " 4   issue_detail               277711 non-null  object\n",
      " 5   year                       293093 non-null  int64 \n",
      " 6   quarter                    293093 non-null  int64 \n",
      " 7   branch_line_route          292202 non-null  object\n",
      "dtypes: int64(2), object(6)\n",
      "memory usage: 20.1+ MB\n"
     ]
    }
   ],
   "source": [
    "complaints_df.info()"
   ]
  },
  {
   "cell_type": "code",
   "execution_count": 39,
   "id": "3edc1a81",
   "metadata": {
    "scrolled": true
   },
   "outputs": [
    {
     "data": {
      "text/plain": [
       "False    292555\n",
       "True        538\n",
       "Name: subject_detail, dtype: int64"
      ]
     },
     "execution_count": 39,
     "metadata": {},
     "output_type": "execute_result"
    }
   ],
   "source": [
    "complaints_df['subject_detail'].isna().value_counts()"
   ]
  },
  {
   "cell_type": "code",
   "execution_count": 40,
   "id": "9e2d8bc3",
   "metadata": {
    "scrolled": true
   },
   "outputs": [
    {
     "data": {
      "text/plain": [
       "False    277711\n",
       "True      15382\n",
       "Name: issue_detail, dtype: int64"
      ]
     },
     "execution_count": 40,
     "metadata": {},
     "output_type": "execute_result"
    }
   ],
   "source": [
    "complaints_df['issue_detail'].isna().value_counts()"
   ]
  },
  {
   "cell_type": "code",
   "execution_count": 41,
   "id": "e56a68b6",
   "metadata": {},
   "outputs": [
    {
     "data": {
      "text/html": [
       "<div>\n",
       "<style scoped>\n",
       "    .dataframe tbody tr th:only-of-type {\n",
       "        vertical-align: middle;\n",
       "    }\n",
       "\n",
       "    .dataframe tbody tr th {\n",
       "        vertical-align: top;\n",
       "    }\n",
       "\n",
       "    .dataframe thead th {\n",
       "        text-align: right;\n",
       "    }\n",
       "</style>\n",
       "<table border=\"1\" class=\"dataframe\">\n",
       "  <thead>\n",
       "    <tr style=\"text-align: right;\">\n",
       "      <th></th>\n",
       "      <th>agency</th>\n",
       "      <th>commendation_or_complaint</th>\n",
       "      <th>subject_matter</th>\n",
       "      <th>subject_detail</th>\n",
       "      <th>issue_detail</th>\n",
       "      <th>year</th>\n",
       "      <th>quarter</th>\n",
       "      <th>branch_line_route</th>\n",
       "    </tr>\n",
       "  </thead>\n",
       "  <tbody>\n",
       "    <tr>\n",
       "      <th>431</th>\n",
       "      <td>NYC Buses</td>\n",
       "      <td>Complaint</td>\n",
       "      <td>Customer</td>\n",
       "      <td>NaN</td>\n",
       "      <td>NaN</td>\n",
       "      <td>2019</td>\n",
       "      <td>4</td>\n",
       "      <td>Bx13</td>\n",
       "    </tr>\n",
       "    <tr>\n",
       "      <th>432</th>\n",
       "      <td>NYC Buses</td>\n",
       "      <td>Complaint</td>\n",
       "      <td>Employees</td>\n",
       "      <td>Bus Operator/Driver</td>\n",
       "      <td>Operating Performance</td>\n",
       "      <td>2019</td>\n",
       "      <td>4</td>\n",
       "      <td>Bx28</td>\n",
       "    </tr>\n",
       "    <tr>\n",
       "      <th>433</th>\n",
       "      <td>NYC Buses</td>\n",
       "      <td>Complaint</td>\n",
       "      <td>Buses</td>\n",
       "      <td>NaN</td>\n",
       "      <td>Appearance / Cleanliness</td>\n",
       "      <td>2019</td>\n",
       "      <td>4</td>\n",
       "      <td>S74</td>\n",
       "    </tr>\n",
       "    <tr>\n",
       "      <th>434</th>\n",
       "      <td>NYC Buses</td>\n",
       "      <td>Complaint</td>\n",
       "      <td>Service</td>\n",
       "      <td>Scheduled Service</td>\n",
       "      <td>Operating Conditions / Availability</td>\n",
       "      <td>2019</td>\n",
       "      <td>4</td>\n",
       "      <td>B47</td>\n",
       "    </tr>\n",
       "    <tr>\n",
       "      <th>435</th>\n",
       "      <td>NYC Buses</td>\n",
       "      <td>Complaint</td>\n",
       "      <td>Employees</td>\n",
       "      <td>Bus Operator/Driver</td>\n",
       "      <td>NaN</td>\n",
       "      <td>2019</td>\n",
       "      <td>4</td>\n",
       "      <td>Q100-LTD</td>\n",
       "    </tr>\n",
       "  </tbody>\n",
       "</table>\n",
       "</div>"
      ],
      "text/plain": [
       "        agency commendation_or_complaint subject_matter       subject_detail  \\\n",
       "431  NYC Buses                 Complaint       Customer                  NaN   \n",
       "432  NYC Buses                 Complaint      Employees  Bus Operator/Driver   \n",
       "433  NYC Buses                 Complaint          Buses                  NaN   \n",
       "434  NYC Buses                 Complaint        Service    Scheduled Service   \n",
       "435  NYC Buses                 Complaint      Employees  Bus Operator/Driver   \n",
       "\n",
       "                            issue_detail  year  quarter branch_line_route  \n",
       "431                                  NaN  2019        4              Bx13  \n",
       "432                Operating Performance  2019        4              Bx28  \n",
       "433             Appearance / Cleanliness  2019        4               S74  \n",
       "434  Operating Conditions / Availability  2019        4               B47  \n",
       "435                                  NaN  2019        4          Q100-LTD  "
      ]
     },
     "execution_count": 41,
     "metadata": {},
     "output_type": "execute_result"
    }
   ],
   "source": [
    "complaints_df.head()"
   ]
  },
  {
   "cell_type": "code",
   "execution_count": 42,
   "id": "89ab773b",
   "metadata": {},
   "outputs": [
    {
     "data": {
      "text/plain": [
       "293093"
      ]
     },
     "execution_count": 42,
     "metadata": {},
     "output_type": "execute_result"
    }
   ],
   "source": [
    "complaints_df.shape[0]"
   ]
  },
  {
   "cell_type": "code",
   "execution_count": 43,
   "id": "138e4933",
   "metadata": {
    "scrolled": true
   },
   "outputs": [
    {
     "data": {
      "text/html": [
       "<div>\n",
       "<style scoped>\n",
       "    .dataframe tbody tr th:only-of-type {\n",
       "        vertical-align: middle;\n",
       "    }\n",
       "\n",
       "    .dataframe tbody tr th {\n",
       "        vertical-align: top;\n",
       "    }\n",
       "\n",
       "    .dataframe thead th {\n",
       "        text-align: right;\n",
       "    }\n",
       "</style>\n",
       "<table border=\"1\" class=\"dataframe\">\n",
       "  <thead>\n",
       "    <tr style=\"text-align: right;\">\n",
       "      <th></th>\n",
       "      <th>agency</th>\n",
       "    </tr>\n",
       "    <tr>\n",
       "      <th>year</th>\n",
       "      <th></th>\n",
       "    </tr>\n",
       "  </thead>\n",
       "  <tbody>\n",
       "    <tr>\n",
       "      <th>2014</th>\n",
       "      <td>21081</td>\n",
       "    </tr>\n",
       "    <tr>\n",
       "      <th>2015</th>\n",
       "      <td>28807</td>\n",
       "    </tr>\n",
       "    <tr>\n",
       "      <th>2016</th>\n",
       "      <td>60654</td>\n",
       "    </tr>\n",
       "    <tr>\n",
       "      <th>2017</th>\n",
       "      <td>51308</td>\n",
       "    </tr>\n",
       "    <tr>\n",
       "      <th>2018</th>\n",
       "      <td>56066</td>\n",
       "    </tr>\n",
       "    <tr>\n",
       "      <th>2019</th>\n",
       "      <td>75177</td>\n",
       "    </tr>\n",
       "  </tbody>\n",
       "</table>\n",
       "</div>"
      ],
      "text/plain": [
       "      agency\n",
       "year        \n",
       "2014   21081\n",
       "2015   28807\n",
       "2016   60654\n",
       "2017   51308\n",
       "2018   56066\n",
       "2019   75177"
      ]
     },
     "execution_count": 43,
     "metadata": {},
     "output_type": "execute_result"
    }
   ],
   "source": [
    "# total complaints by year \n",
    "pd.pivot_table(complaints_df, values=\"agency\", index=\"year\", aggfunc='count')"
   ]
  },
  {
   "cell_type": "code",
   "execution_count": 44,
   "id": "cd425108",
   "metadata": {
    "scrolled": false
   },
   "outputs": [
    {
     "data": {
      "image/png": "[encoded data removed]",
      "text/plain": [
       "<Figure size 432x288 with 1 Axes>"
      ]
     },
     "metadata": {},
     "output_type": "display_data"
    }
   ],
   "source": [
    "sns.set()\n",
    "pd.pivot_table(complaints_df, values=\"agency\", index=['year', 'quarter'], aggfunc='count').plot()\n",
    "plt.ylabel('total complaints by year');"
   ]
  },
  {
   "cell_type": "code",
   "execution_count": 45,
   "id": "6d39bc22",
   "metadata": {},
   "outputs": [],
   "source": [
    "subject_detail_pv = pd.pivot_table(complaints_df,values=\"year\", index='subject_detail', aggfunc='count')\n"
   ]
  },
  {
   "cell_type": "code",
   "execution_count": 46,
   "id": "665bacda",
   "metadata": {},
   "outputs": [
    {
     "data": {
      "text/html": [
       "<div>\n",
       "<style scoped>\n",
       "    .dataframe tbody tr th:only-of-type {\n",
       "        vertical-align: middle;\n",
       "    }\n",
       "\n",
       "    .dataframe tbody tr th {\n",
       "        vertical-align: top;\n",
       "    }\n",
       "\n",
       "    .dataframe thead th {\n",
       "        text-align: right;\n",
       "    }\n",
       "</style>\n",
       "<table border=\"1\" class=\"dataframe\">\n",
       "  <thead>\n",
       "    <tr style=\"text-align: right;\">\n",
       "      <th></th>\n",
       "      <th>year</th>\n",
       "    </tr>\n",
       "    <tr>\n",
       "      <th>subject_detail</th>\n",
       "      <th></th>\n",
       "    </tr>\n",
       "  </thead>\n",
       "  <tbody>\n",
       "    <tr>\n",
       "      <th>Bus Operator/Driver</th>\n",
       "      <td>154906</td>\n",
       "    </tr>\n",
       "    <tr>\n",
       "      <th>Bus/Vehicle - General</th>\n",
       "      <td>95220</td>\n",
       "    </tr>\n",
       "    <tr>\n",
       "      <th></th>\n",
       "      <td>10805</td>\n",
       "    </tr>\n",
       "    <tr>\n",
       "      <th>Ticket Machiness</th>\n",
       "      <td>7054</td>\n",
       "    </tr>\n",
       "    <tr>\n",
       "      <th>Bus Stop</th>\n",
       "      <td>4906</td>\n",
       "    </tr>\n",
       "    <tr>\n",
       "      <th>Dispatcher</th>\n",
       "      <td>1838</td>\n",
       "    </tr>\n",
       "    <tr>\n",
       "      <th>Mobile App</th>\n",
       "      <td>1795</td>\n",
       "    </tr>\n",
       "    <tr>\n",
       "      <th>Scheduled Service</th>\n",
       "      <td>1726</td>\n",
       "    </tr>\n",
       "    <tr>\n",
       "      <th>Schedules</th>\n",
       "      <td>1585</td>\n",
       "    </tr>\n",
       "    <tr>\n",
       "      <th>Other</th>\n",
       "      <td>1410</td>\n",
       "    </tr>\n",
       "    <tr>\n",
       "      <th>Alternate/Substitute Bus</th>\n",
       "      <td>1017</td>\n",
       "    </tr>\n",
       "    <tr>\n",
       "      <th>Website</th>\n",
       "      <td>951</td>\n",
       "    </tr>\n",
       "    <tr>\n",
       "      <th>Fare/Toll Policy</th>\n",
       "      <td>771</td>\n",
       "    </tr>\n",
       "    <tr>\n",
       "      <th>CSR Customer Service Office ( E&amp;C )</th>\n",
       "      <td>729</td>\n",
       "    </tr>\n",
       "    <tr>\n",
       "      <th>Published Schedules</th>\n",
       "      <td>670</td>\n",
       "    </tr>\n",
       "  </tbody>\n",
       "</table>\n",
       "</div>"
      ],
      "text/plain": [
       "                                       year\n",
       "subject_detail                             \n",
       "Bus Operator/Driver                  154906\n",
       "Bus/Vehicle - General                 95220\n",
       "                                      10805\n",
       "Ticket Machiness                       7054\n",
       "Bus Stop                               4906\n",
       "Dispatcher                             1838\n",
       "Mobile App                             1795\n",
       "Scheduled Service                      1726\n",
       "Schedules                              1585\n",
       "Other                                  1410\n",
       "Alternate/Substitute Bus               1017\n",
       "Website                                 951\n",
       "Fare/Toll Policy                        771\n",
       "CSR Customer Service Office ( E&C )     729\n",
       "Published Schedules                     670"
      ]
     },
     "execution_count": 46,
     "metadata": {},
     "output_type": "execute_result"
    }
   ],
   "source": [
    "subject_detail_pv = subject_detail_pv.sort_values('year', ascending=False)\n",
    "subject_detail_pv.head(15)"
   ]
  },
  {
   "cell_type": "code",
   "execution_count": 47,
   "id": "75e721e6",
   "metadata": {
    "scrolled": true
   },
   "outputs": [],
   "source": [
    "issue_detail_pv = pd.pivot_table(complaints_df,values=\"year\", index='issue_detail', aggfunc='count')"
   ]
  },
  {
   "cell_type": "code",
   "execution_count": 48,
   "id": "b9b87aec",
   "metadata": {},
   "outputs": [
    {
     "data": {
      "text/html": [
       "<div>\n",
       "<style scoped>\n",
       "    .dataframe tbody tr th:only-of-type {\n",
       "        vertical-align: middle;\n",
       "    }\n",
       "\n",
       "    .dataframe tbody tr th {\n",
       "        vertical-align: top;\n",
       "    }\n",
       "\n",
       "    .dataframe thead th {\n",
       "        text-align: right;\n",
       "    }\n",
       "</style>\n",
       "<table border=\"1\" class=\"dataframe\">\n",
       "  <thead>\n",
       "    <tr style=\"text-align: right;\">\n",
       "      <th></th>\n",
       "      <th>year</th>\n",
       "    </tr>\n",
       "    <tr>\n",
       "      <th>issue_detail</th>\n",
       "      <th></th>\n",
       "    </tr>\n",
       "  </thead>\n",
       "  <tbody>\n",
       "    <tr>\n",
       "      <th>Late / Delay</th>\n",
       "      <td>54695</td>\n",
       "    </tr>\n",
       "    <tr>\n",
       "      <th>Flagging / Failed To Stop</th>\n",
       "      <td>32880</td>\n",
       "    </tr>\n",
       "    <tr>\n",
       "      <th>Rude / Inappropriate Language</th>\n",
       "      <td>25321</td>\n",
       "    </tr>\n",
       "    <tr>\n",
       "      <th>Reckless Driving</th>\n",
       "      <td>22918</td>\n",
       "    </tr>\n",
       "    <tr>\n",
       "      <th>Failure To Make Scheduled Stop</th>\n",
       "      <td>13085</td>\n",
       "    </tr>\n",
       "    <tr>\n",
       "      <th>Not regulating service properly</th>\n",
       "      <td>11431</td>\n",
       "    </tr>\n",
       "    <tr>\n",
       "      <th>Other</th>\n",
       "      <td>9833</td>\n",
       "    </tr>\n",
       "    <tr>\n",
       "      <th>Closed Door Before Customer Could Board</th>\n",
       "      <td>7307</td>\n",
       "    </tr>\n",
       "    <tr>\n",
       "      <th>Abandoned Customer at Station/Stop</th>\n",
       "      <td>7068</td>\n",
       "    </tr>\n",
       "    <tr>\n",
       "      <th>Not Helpful</th>\n",
       "      <td>5542</td>\n",
       "    </tr>\n",
       "    <tr>\n",
       "      <th>Not Working / Out of Service</th>\n",
       "      <td>4910</td>\n",
       "    </tr>\n",
       "    <tr>\n",
       "      <th>Early</th>\n",
       "      <td>4826</td>\n",
       "    </tr>\n",
       "    <tr>\n",
       "      <th>Crowding</th>\n",
       "      <td>4699</td>\n",
       "    </tr>\n",
       "    <tr>\n",
       "      <th>Add More / Not Enough</th>\n",
       "      <td>4476</td>\n",
       "    </tr>\n",
       "    <tr>\n",
       "      <th>Bypassed Requested Stop</th>\n",
       "      <td>4206</td>\n",
       "    </tr>\n",
       "  </tbody>\n",
       "</table>\n",
       "</div>"
      ],
      "text/plain": [
       "                                          year\n",
       "issue_detail                                  \n",
       "Late / Delay                             54695\n",
       "Flagging / Failed To Stop                32880\n",
       "Rude / Inappropriate Language            25321\n",
       "Reckless Driving                         22918\n",
       "Failure To Make Scheduled Stop           13085\n",
       "Not regulating service properly          11431\n",
       "Other                                     9833\n",
       "Closed Door Before Customer Could Board   7307\n",
       "Abandoned Customer at Station/Stop        7068\n",
       "Not Helpful                               5542\n",
       "Not Working / Out of Service              4910\n",
       "Early                                     4826\n",
       "Crowding                                  4699\n",
       "Add More / Not Enough                     4476\n",
       "Bypassed Requested Stop                   4206"
      ]
     },
     "execution_count": 48,
     "metadata": {},
     "output_type": "execute_result"
    }
   ],
   "source": [
    "issues_details_pv = issue_detail_pv.sort_values('year', ascending=False)\n",
    "issues_details_pv.head(15)"
   ]
  },
  {
   "cell_type": "code",
   "execution_count": 49,
   "id": "a6acff14",
   "metadata": {},
   "outputs": [],
   "source": [
    "issue_pv2 = pd.pivot_table(complaints_df,values='year', index=['issue_detail','quarter'], aggfunc='count')"
   ]
  },
  {
   "cell_type": "code",
   "execution_count": 50,
   "id": "663db728",
   "metadata": {},
   "outputs": [
    {
     "data": {
      "text/html": [
       "<div>\n",
       "<style scoped>\n",
       "    .dataframe tbody tr th:only-of-type {\n",
       "        vertical-align: middle;\n",
       "    }\n",
       "\n",
       "    .dataframe tbody tr th {\n",
       "        vertical-align: top;\n",
       "    }\n",
       "\n",
       "    .dataframe thead th {\n",
       "        text-align: right;\n",
       "    }\n",
       "</style>\n",
       "<table border=\"1\" class=\"dataframe\">\n",
       "  <thead>\n",
       "    <tr style=\"text-align: right;\">\n",
       "      <th></th>\n",
       "      <th></th>\n",
       "      <th>year</th>\n",
       "    </tr>\n",
       "    <tr>\n",
       "      <th>issue_detail</th>\n",
       "      <th>quarter</th>\n",
       "      <th></th>\n",
       "    </tr>\n",
       "  </thead>\n",
       "  <tbody>\n",
       "    <tr>\n",
       "      <th rowspan=\"3\" valign=\"top\">Late / Delay</th>\n",
       "      <th>2</th>\n",
       "      <td>18049</td>\n",
       "    </tr>\n",
       "    <tr>\n",
       "      <th>4</th>\n",
       "      <td>15107</td>\n",
       "    </tr>\n",
       "    <tr>\n",
       "      <th>3</th>\n",
       "      <td>12524</td>\n",
       "    </tr>\n",
       "    <tr>\n",
       "      <th>Flagging / Failed To Stop</th>\n",
       "      <th>2</th>\n",
       "      <td>10462</td>\n",
       "    </tr>\n",
       "    <tr>\n",
       "      <th>Late / Delay</th>\n",
       "      <th>1</th>\n",
       "      <td>9015</td>\n",
       "    </tr>\n",
       "    <tr>\n",
       "      <th rowspan=\"2\" valign=\"top\">Flagging / Failed To Stop</th>\n",
       "      <th>4</th>\n",
       "      <td>8112</td>\n",
       "    </tr>\n",
       "    <tr>\n",
       "      <th>3</th>\n",
       "      <td>7984</td>\n",
       "    </tr>\n",
       "    <tr>\n",
       "      <th>Rude / Inappropriate Language</th>\n",
       "      <th>2</th>\n",
       "      <td>7965</td>\n",
       "    </tr>\n",
       "    <tr>\n",
       "      <th>Reckless Driving</th>\n",
       "      <th>2</th>\n",
       "      <td>7688</td>\n",
       "    </tr>\n",
       "    <tr>\n",
       "      <th>Rude / Inappropriate Language</th>\n",
       "      <th>4</th>\n",
       "      <td>6643</td>\n",
       "    </tr>\n",
       "    <tr>\n",
       "      <th>Flagging / Failed To Stop</th>\n",
       "      <th>1</th>\n",
       "      <td>6322</td>\n",
       "    </tr>\n",
       "    <tr>\n",
       "      <th>Reckless Driving</th>\n",
       "      <th>4</th>\n",
       "      <td>5640</td>\n",
       "    </tr>\n",
       "    <tr>\n",
       "      <th rowspan=\"2\" valign=\"top\">Rude / Inappropriate Language</th>\n",
       "      <th>3</th>\n",
       "      <td>5567</td>\n",
       "    </tr>\n",
       "    <tr>\n",
       "      <th>1</th>\n",
       "      <td>5146</td>\n",
       "    </tr>\n",
       "    <tr>\n",
       "      <th>Reckless Driving</th>\n",
       "      <th>3</th>\n",
       "      <td>5053</td>\n",
       "    </tr>\n",
       "  </tbody>\n",
       "</table>\n",
       "</div>"
      ],
      "text/plain": [
       "                                        year\n",
       "issue_detail                  quarter       \n",
       "Late / Delay                  2        18049\n",
       "                              4        15107\n",
       "                              3        12524\n",
       "Flagging / Failed To Stop     2        10462\n",
       "Late / Delay                  1         9015\n",
       "Flagging / Failed To Stop     4         8112\n",
       "                              3         7984\n",
       "Rude / Inappropriate Language 2         7965\n",
       "Reckless Driving              2         7688\n",
       "Rude / Inappropriate Language 4         6643\n",
       "Flagging / Failed To Stop     1         6322\n",
       "Reckless Driving              4         5640\n",
       "Rude / Inappropriate Language 3         5567\n",
       "                              1         5146\n",
       "Reckless Driving              3         5053"
      ]
     },
     "execution_count": 50,
     "metadata": {},
     "output_type": "execute_result"
    }
   ],
   "source": [
    "issue_pv2 = issue_pv2.sort_values('year', ascending=False)\n",
    "issue_pv2.head(15)"
   ]
  },
  {
   "cell_type": "markdown",
   "id": "a0fcc4af",
   "metadata": {},
   "source": [
    "# Identifying indicators \n",
    "\n",
    "- complaints directly to accessibility \n",
    "- complaints indirectly to accessibility\n",
    "- complaints other/noteworthy to accessibility\n",
    "- for those categories flagged directly, depending how many they are, create a bar graph by year \n",
    "- counts and total for each year comparing to perecent to bus all related complaints \n",
    "\n",
    "- percent of all complaints only on buses "
   ]
  },
  {
   "cell_type": "code",
   "execution_count": 51,
   "id": "3c64193f",
   "metadata": {},
   "outputs": [],
   "source": [
    "direct_labels = ['Bypassed Wheelchair','Refused Lift', 'Failed to provide satisfactory service to persons with disabilities', 'Failed to Secure Wheelchair','Refused to deploy lift', 'Departed before mobility customer was secure', 'Did not let disabled customer board' ,'Insists on securing mobility device']"
   ]
  },
  {
   "cell_type": "code",
   "execution_count": 52,
   "id": "018a5b55",
   "metadata": {},
   "outputs": [],
   "source": [
    "complaints_df['accessibility_related_direct'] = complaints_df['issue_detail'].apply(lambda x: 1 if x in direct_labels else 0)"
   ]
  },
  {
   "cell_type": "code",
   "execution_count": 53,
   "id": "355175b4",
   "metadata": {},
   "outputs": [
    {
     "data": {
      "text/plain": [
       "0    290330\n",
       "1      2763\n",
       "Name: accessibility_related_direct, dtype: int64"
      ]
     },
     "execution_count": 53,
     "metadata": {},
     "output_type": "execute_result"
    }
   ],
   "source": [
    "complaints_df['accessibility_related_direct'].value_counts()"
   ]
  },
  {
   "cell_type": "code",
   "execution_count": 54,
   "id": "89690d85",
   "metadata": {},
   "outputs": [],
   "source": [
    "indirect_labels = ['Snow / Ice','Unable To Exit At Station / Stop','Did not kneel/curb bus to facilitate boarding','Accessibility Due To Construction','Difficulty Boarding / Entering','Difficulty Leaving / Exiting','Accessibility due to construction']\n",
    "\n"
   ]
  },
  {
   "cell_type": "code",
   "execution_count": 55,
   "id": "8d463b24",
   "metadata": {},
   "outputs": [],
   "source": [
    "complaints_df['accessibility_related_indirect'] = complaints_df['issue_detail'].apply(lambda x: 1 if x in indirect_labels else 0)\n"
   ]
  },
  {
   "cell_type": "code",
   "execution_count": 56,
   "id": "b8df26b7",
   "metadata": {},
   "outputs": [
    {
     "data": {
      "text/plain": [
       "0    291554\n",
       "1      1539\n",
       "Name: accessibility_related_indirect, dtype: int64"
      ]
     },
     "execution_count": 56,
     "metadata": {},
     "output_type": "execute_result"
    }
   ],
   "source": [
    "complaints_df['accessibility_related_indirect'].value_counts()"
   ]
  },
  {
   "cell_type": "code",
   "execution_count": 57,
   "id": "4c04d753",
   "metadata": {},
   "outputs": [],
   "source": [
    "other_noteworthy = ['Failure To Make Scheduled Stop','Early','Crowding','Bypassed Requested Stop','Bypassed Requested Stop','Bunching',]"
   ]
  },
  {
   "cell_type": "code",
   "execution_count": 58,
   "id": "a434f8e2",
   "metadata": {},
   "outputs": [],
   "source": [
    "complaints_df['quality_other_noteworthy_complaint'] = complaints_df['issue_detail'].apply(lambda x: 1 if x in indirect_labels else 0)\n"
   ]
  },
  {
   "cell_type": "code",
   "execution_count": 59,
   "id": "dc2adfb1",
   "metadata": {},
   "outputs": [
    {
     "data": {
      "text/plain": [
       "0    291554\n",
       "1      1539\n",
       "Name: quality_other_noteworthy_complaint, dtype: int64"
      ]
     },
     "execution_count": 59,
     "metadata": {},
     "output_type": "execute_result"
    }
   ],
   "source": [
    "complaints_df['quality_other_noteworthy_complaint'].value_counts()"
   ]
  },
  {
   "cell_type": "code",
   "execution_count": 60,
   "id": "b14d4aa3",
   "metadata": {
    "scrolled": true
   },
   "outputs": [
    {
     "data": {
      "text/html": [
       "<div>\n",
       "<style scoped>\n",
       "    .dataframe tbody tr th:only-of-type {\n",
       "        vertical-align: middle;\n",
       "    }\n",
       "\n",
       "    .dataframe tbody tr th {\n",
       "        vertical-align: top;\n",
       "    }\n",
       "\n",
       "    .dataframe thead th {\n",
       "        text-align: right;\n",
       "    }\n",
       "</style>\n",
       "<table border=\"1\" class=\"dataframe\">\n",
       "  <thead>\n",
       "    <tr style=\"text-align: right;\">\n",
       "      <th></th>\n",
       "      <th>agency</th>\n",
       "      <th>commendation_or_complaint</th>\n",
       "      <th>subject_matter</th>\n",
       "      <th>subject_detail</th>\n",
       "      <th>issue_detail</th>\n",
       "      <th>year</th>\n",
       "      <th>quarter</th>\n",
       "      <th>branch_line_route</th>\n",
       "      <th>accessibility_related_direct</th>\n",
       "      <th>accessibility_related_indirect</th>\n",
       "      <th>quality_other_noteworthy_complaint</th>\n",
       "    </tr>\n",
       "  </thead>\n",
       "  <tbody>\n",
       "    <tr>\n",
       "      <th>431</th>\n",
       "      <td>NYC Buses</td>\n",
       "      <td>Complaint</td>\n",
       "      <td>Customer</td>\n",
       "      <td>NaN</td>\n",
       "      <td>NaN</td>\n",
       "      <td>2019</td>\n",
       "      <td>4</td>\n",
       "      <td>Bx13</td>\n",
       "      <td>0</td>\n",
       "      <td>0</td>\n",
       "      <td>0</td>\n",
       "    </tr>\n",
       "    <tr>\n",
       "      <th>432</th>\n",
       "      <td>NYC Buses</td>\n",
       "      <td>Complaint</td>\n",
       "      <td>Employees</td>\n",
       "      <td>Bus Operator/Driver</td>\n",
       "      <td>Operating Performance</td>\n",
       "      <td>2019</td>\n",
       "      <td>4</td>\n",
       "      <td>Bx28</td>\n",
       "      <td>0</td>\n",
       "      <td>0</td>\n",
       "      <td>0</td>\n",
       "    </tr>\n",
       "    <tr>\n",
       "      <th>433</th>\n",
       "      <td>NYC Buses</td>\n",
       "      <td>Complaint</td>\n",
       "      <td>Buses</td>\n",
       "      <td>NaN</td>\n",
       "      <td>Appearance / Cleanliness</td>\n",
       "      <td>2019</td>\n",
       "      <td>4</td>\n",
       "      <td>S74</td>\n",
       "      <td>0</td>\n",
       "      <td>0</td>\n",
       "      <td>0</td>\n",
       "    </tr>\n",
       "    <tr>\n",
       "      <th>434</th>\n",
       "      <td>NYC Buses</td>\n",
       "      <td>Complaint</td>\n",
       "      <td>Service</td>\n",
       "      <td>Scheduled Service</td>\n",
       "      <td>Operating Conditions / Availability</td>\n",
       "      <td>2019</td>\n",
       "      <td>4</td>\n",
       "      <td>B47</td>\n",
       "      <td>0</td>\n",
       "      <td>0</td>\n",
       "      <td>0</td>\n",
       "    </tr>\n",
       "    <tr>\n",
       "      <th>435</th>\n",
       "      <td>NYC Buses</td>\n",
       "      <td>Complaint</td>\n",
       "      <td>Employees</td>\n",
       "      <td>Bus Operator/Driver</td>\n",
       "      <td>NaN</td>\n",
       "      <td>2019</td>\n",
       "      <td>4</td>\n",
       "      <td>Q100-LTD</td>\n",
       "      <td>0</td>\n",
       "      <td>0</td>\n",
       "      <td>0</td>\n",
       "    </tr>\n",
       "  </tbody>\n",
       "</table>\n",
       "</div>"
      ],
      "text/plain": [
       "        agency commendation_or_complaint subject_matter       subject_detail  \\\n",
       "431  NYC Buses                 Complaint       Customer                  NaN   \n",
       "432  NYC Buses                 Complaint      Employees  Bus Operator/Driver   \n",
       "433  NYC Buses                 Complaint          Buses                  NaN   \n",
       "434  NYC Buses                 Complaint        Service    Scheduled Service   \n",
       "435  NYC Buses                 Complaint      Employees  Bus Operator/Driver   \n",
       "\n",
       "                            issue_detail  year  quarter branch_line_route  \\\n",
       "431                                  NaN  2019        4              Bx13   \n",
       "432                Operating Performance  2019        4              Bx28   \n",
       "433             Appearance / Cleanliness  2019        4               S74   \n",
       "434  Operating Conditions / Availability  2019        4               B47   \n",
       "435                                  NaN  2019        4          Q100-LTD   \n",
       "\n",
       "     accessibility_related_direct  accessibility_related_indirect  \\\n",
       "431                             0                               0   \n",
       "432                             0                               0   \n",
       "433                             0                               0   \n",
       "434                             0                               0   \n",
       "435                             0                               0   \n",
       "\n",
       "     quality_other_noteworthy_complaint  \n",
       "431                                   0  \n",
       "432                                   0  \n",
       "433                                   0  \n",
       "434                                   0  \n",
       "435                                   0  "
      ]
     },
     "execution_count": 60,
     "metadata": {},
     "output_type": "execute_result"
    }
   ],
   "source": [
    "complaints_df.head()"
   ]
  },
  {
   "cell_type": "markdown",
   "id": "810dbad1",
   "metadata": {},
   "source": [
    "## 2763 complaints directly related to accessibility"
   ]
  },
  {
   "cell_type": "code",
   "execution_count": 61,
   "id": "507317bd",
   "metadata": {},
   "outputs": [],
   "source": [
    "direct_df =  complaints_df[complaints_df['accessibility_related_direct'] == 1]"
   ]
  },
  {
   "cell_type": "code",
   "execution_count": 62,
   "id": "a608beb2",
   "metadata": {},
   "outputs": [
    {
     "data": {
      "text/html": [
       "<div>\n",
       "<style scoped>\n",
       "    .dataframe tbody tr th:only-of-type {\n",
       "        vertical-align: middle;\n",
       "    }\n",
       "\n",
       "    .dataframe tbody tr th {\n",
       "        vertical-align: top;\n",
       "    }\n",
       "\n",
       "    .dataframe thead th {\n",
       "        text-align: right;\n",
       "    }\n",
       "</style>\n",
       "<table border=\"1\" class=\"dataframe\">\n",
       "  <thead>\n",
       "    <tr style=\"text-align: right;\">\n",
       "      <th></th>\n",
       "      <th>index</th>\n",
       "      <th>agency</th>\n",
       "      <th>commendation_or_complaint</th>\n",
       "      <th>subject_matter</th>\n",
       "      <th>subject_detail</th>\n",
       "      <th>issue_detail</th>\n",
       "      <th>year</th>\n",
       "      <th>quarter</th>\n",
       "      <th>branch_line_route</th>\n",
       "      <th>accessibility_related_direct</th>\n",
       "      <th>accessibility_related_indirect</th>\n",
       "      <th>quality_other_noteworthy_complaint</th>\n",
       "    </tr>\n",
       "  </thead>\n",
       "  <tbody>\n",
       "    <tr>\n",
       "      <th>0</th>\n",
       "      <td>10594</td>\n",
       "      <td>NYC Buses</td>\n",
       "      <td>Complaint</td>\n",
       "      <td>Employees</td>\n",
       "      <td>Bus Operator/Driver</td>\n",
       "      <td>Did not let disabled customer board</td>\n",
       "      <td>2019</td>\n",
       "      <td>4</td>\n",
       "      <td>M102</td>\n",
       "      <td>1</td>\n",
       "      <td>0</td>\n",
       "      <td>0</td>\n",
       "    </tr>\n",
       "    <tr>\n",
       "      <th>1</th>\n",
       "      <td>10700</td>\n",
       "      <td>NYC Buses</td>\n",
       "      <td>Complaint</td>\n",
       "      <td>Employees</td>\n",
       "      <td>Bus Operator/Driver</td>\n",
       "      <td>Did not let disabled customer board</td>\n",
       "      <td>2019</td>\n",
       "      <td>4</td>\n",
       "      <td>B47</td>\n",
       "      <td>1</td>\n",
       "      <td>0</td>\n",
       "      <td>0</td>\n",
       "    </tr>\n",
       "    <tr>\n",
       "      <th>2</th>\n",
       "      <td>10703</td>\n",
       "      <td>NYC Buses</td>\n",
       "      <td>Complaint</td>\n",
       "      <td>Employees</td>\n",
       "      <td>Bus Operator/Driver</td>\n",
       "      <td>Did not let disabled customer board</td>\n",
       "      <td>2019</td>\n",
       "      <td>4</td>\n",
       "      <td>B44-SBS</td>\n",
       "      <td>1</td>\n",
       "      <td>0</td>\n",
       "      <td>0</td>\n",
       "    </tr>\n",
       "    <tr>\n",
       "      <th>3</th>\n",
       "      <td>10741</td>\n",
       "      <td>NYC Buses</td>\n",
       "      <td>Complaint</td>\n",
       "      <td>Employees</td>\n",
       "      <td>Bus Operator/Driver</td>\n",
       "      <td>Bypassed Wheelchair</td>\n",
       "      <td>2019</td>\n",
       "      <td>4</td>\n",
       "      <td>Q69</td>\n",
       "      <td>1</td>\n",
       "      <td>0</td>\n",
       "      <td>0</td>\n",
       "    </tr>\n",
       "    <tr>\n",
       "      <th>4</th>\n",
       "      <td>10805</td>\n",
       "      <td>NYC Buses</td>\n",
       "      <td>Complaint</td>\n",
       "      <td>Employees</td>\n",
       "      <td>Bus Operator/Driver</td>\n",
       "      <td>Bypassed Wheelchair</td>\n",
       "      <td>2019</td>\n",
       "      <td>4</td>\n",
       "      <td>B44</td>\n",
       "      <td>1</td>\n",
       "      <td>0</td>\n",
       "      <td>0</td>\n",
       "    </tr>\n",
       "  </tbody>\n",
       "</table>\n",
       "</div>"
      ],
      "text/plain": [
       "   index     agency commendation_or_complaint subject_matter  \\\n",
       "0  10594  NYC Buses                 Complaint      Employees   \n",
       "1  10700  NYC Buses                 Complaint      Employees   \n",
       "2  10703  NYC Buses                 Complaint      Employees   \n",
       "3  10741  NYC Buses                 Complaint      Employees   \n",
       "4  10805  NYC Buses                 Complaint      Employees   \n",
       "\n",
       "        subject_detail                         issue_detail  year  quarter  \\\n",
       "0  Bus Operator/Driver  Did not let disabled customer board  2019        4   \n",
       "1  Bus Operator/Driver  Did not let disabled customer board  2019        4   \n",
       "2  Bus Operator/Driver  Did not let disabled customer board  2019        4   \n",
       "3  Bus Operator/Driver                  Bypassed Wheelchair  2019        4   \n",
       "4  Bus Operator/Driver                  Bypassed Wheelchair  2019        4   \n",
       "\n",
       "  branch_line_route  accessibility_related_direct  \\\n",
       "0              M102                             1   \n",
       "1               B47                             1   \n",
       "2           B44-SBS                             1   \n",
       "3               Q69                             1   \n",
       "4               B44                             1   \n",
       "\n",
       "   accessibility_related_indirect  quality_other_noteworthy_complaint  \n",
       "0                               0                                   0  \n",
       "1                               0                                   0  \n",
       "2                               0                                   0  \n",
       "3                               0                                   0  \n",
       "4                               0                                   0  "
      ]
     },
     "execution_count": 62,
     "metadata": {},
     "output_type": "execute_result"
    }
   ],
   "source": [
    "direct_df = direct_df.reset_index()\n",
    "direct_df.head()"
   ]
  },
  {
   "cell_type": "code",
   "execution_count": 63,
   "id": "a41a2d53",
   "metadata": {},
   "outputs": [
    {
     "data": {
      "text/html": [
       "<div>\n",
       "<style scoped>\n",
       "    .dataframe tbody tr th:only-of-type {\n",
       "        vertical-align: middle;\n",
       "    }\n",
       "\n",
       "    .dataframe tbody tr th {\n",
       "        vertical-align: top;\n",
       "    }\n",
       "\n",
       "    .dataframe thead th {\n",
       "        text-align: right;\n",
       "    }\n",
       "</style>\n",
       "<table border=\"1\" class=\"dataframe\">\n",
       "  <thead>\n",
       "    <tr style=\"text-align: right;\">\n",
       "      <th></th>\n",
       "      <th></th>\n",
       "      <th>accessibility_related_direct</th>\n",
       "    </tr>\n",
       "    <tr>\n",
       "      <th>issue_detail</th>\n",
       "      <th>year</th>\n",
       "      <th></th>\n",
       "    </tr>\n",
       "  </thead>\n",
       "  <tbody>\n",
       "    <tr>\n",
       "      <th rowspan=\"6\" valign=\"top\">Bypassed Wheelchair</th>\n",
       "      <th>2014</th>\n",
       "      <td>140</td>\n",
       "    </tr>\n",
       "    <tr>\n",
       "      <th>2015</th>\n",
       "      <td>173</td>\n",
       "    </tr>\n",
       "    <tr>\n",
       "      <th>2016</th>\n",
       "      <td>181</td>\n",
       "    </tr>\n",
       "    <tr>\n",
       "      <th>2017</th>\n",
       "      <td>180</td>\n",
       "    </tr>\n",
       "    <tr>\n",
       "      <th>2018</th>\n",
       "      <td>163</td>\n",
       "    </tr>\n",
       "    <tr>\n",
       "      <th>2019</th>\n",
       "      <td>327</td>\n",
       "    </tr>\n",
       "    <tr>\n",
       "      <th rowspan=\"2\" valign=\"top\">Departed before mobility customer was secure</th>\n",
       "      <th>2018</th>\n",
       "      <td>3</td>\n",
       "    </tr>\n",
       "    <tr>\n",
       "      <th>2019</th>\n",
       "      <td>32</td>\n",
       "    </tr>\n",
       "    <tr>\n",
       "      <th>Did not let disabled customer board</th>\n",
       "      <th>2019</th>\n",
       "      <td>27</td>\n",
       "    </tr>\n",
       "    <tr>\n",
       "      <th rowspan=\"4\" valign=\"top\">Failed to Secure Wheelchair</th>\n",
       "      <th>2016</th>\n",
       "      <td>20</td>\n",
       "    </tr>\n",
       "    <tr>\n",
       "      <th>2017</th>\n",
       "      <td>80</td>\n",
       "    </tr>\n",
       "    <tr>\n",
       "      <th>2018</th>\n",
       "      <td>64</td>\n",
       "    </tr>\n",
       "    <tr>\n",
       "      <th>2019</th>\n",
       "      <td>42</td>\n",
       "    </tr>\n",
       "    <tr>\n",
       "      <th rowspan=\"2\" valign=\"top\">Failed to provide satisfactory service to persons with disabilities</th>\n",
       "      <th>2018</th>\n",
       "      <td>34</td>\n",
       "    </tr>\n",
       "    <tr>\n",
       "      <th>2019</th>\n",
       "      <td>333</td>\n",
       "    </tr>\n",
       "    <tr>\n",
       "      <th>Insists on securing mobility device</th>\n",
       "      <th>2019</th>\n",
       "      <td>2</td>\n",
       "    </tr>\n",
       "    <tr>\n",
       "      <th rowspan=\"5\" valign=\"top\">Refused Lift</th>\n",
       "      <th>2014</th>\n",
       "      <td>70</td>\n",
       "    </tr>\n",
       "    <tr>\n",
       "      <th>2015</th>\n",
       "      <td>299</td>\n",
       "    </tr>\n",
       "    <tr>\n",
       "      <th>2016</th>\n",
       "      <td>247</td>\n",
       "    </tr>\n",
       "    <tr>\n",
       "      <th>2017</th>\n",
       "      <td>52</td>\n",
       "    </tr>\n",
       "    <tr>\n",
       "      <th>2018</th>\n",
       "      <td>218</td>\n",
       "    </tr>\n",
       "    <tr>\n",
       "      <th rowspan=\"2\" valign=\"top\">Refused to deploy lift</th>\n",
       "      <th>2018</th>\n",
       "      <td>10</td>\n",
       "    </tr>\n",
       "    <tr>\n",
       "      <th>2019</th>\n",
       "      <td>66</td>\n",
       "    </tr>\n",
       "  </tbody>\n",
       "</table>\n",
       "</div>"
      ],
      "text/plain": [
       "                                                         accessibility_related_direct\n",
       "issue_detail                                       year                              \n",
       "Bypassed Wheelchair                                2014                           140\n",
       "                                                   2015                           173\n",
       "                                                   2016                           181\n",
       "                                                   2017                           180\n",
       "                                                   2018                           163\n",
       "                                                   2019                           327\n",
       "Departed before mobility customer was secure       2018                             3\n",
       "                                                   2019                            32\n",
       "Did not let disabled customer board                2019                            27\n",
       "Failed to Secure Wheelchair                        2016                            20\n",
       "                                                   2017                            80\n",
       "                                                   2018                            64\n",
       "                                                   2019                            42\n",
       "Failed to provide satisfactory service to perso... 2018                            34\n",
       "                                                   2019                           333\n",
       "Insists on securing mobility device                2019                             2\n",
       "Refused Lift                                       2014                            70\n",
       "                                                   2015                           299\n",
       "                                                   2016                           247\n",
       "                                                   2017                            52\n",
       "                                                   2018                           218\n",
       "Refused to deploy lift                             2018                            10\n",
       "                                                   2019                            66"
      ]
     },
     "execution_count": 63,
     "metadata": {},
     "output_type": "execute_result"
    }
   ],
   "source": [
    "# total count of direct accessibility related complaints by year\n",
    "\n",
    "\n",
    "pd.pivot_table(direct_df,values=\"accessibility_related_direct\", index=['issue_detail', 'year'] ,aggfunc='count')"
   ]
  },
  {
   "cell_type": "code",
   "execution_count": 64,
   "id": "7530fabb",
   "metadata": {
    "scrolled": true
   },
   "outputs": [
    {
     "data": {
      "text/html": [
       "<div>\n",
       "<style scoped>\n",
       "    .dataframe tbody tr th:only-of-type {\n",
       "        vertical-align: middle;\n",
       "    }\n",
       "\n",
       "    .dataframe tbody tr th {\n",
       "        vertical-align: top;\n",
       "    }\n",
       "\n",
       "    .dataframe thead th {\n",
       "        text-align: right;\n",
       "    }\n",
       "</style>\n",
       "<table border=\"1\" class=\"dataframe\">\n",
       "  <thead>\n",
       "    <tr style=\"text-align: right;\">\n",
       "      <th></th>\n",
       "      <th>accessibility_related_direct</th>\n",
       "    </tr>\n",
       "    <tr>\n",
       "      <th>issue_detail</th>\n",
       "      <th></th>\n",
       "    </tr>\n",
       "  </thead>\n",
       "  <tbody>\n",
       "    <tr>\n",
       "      <th>Bypassed Wheelchair</th>\n",
       "      <td>1164</td>\n",
       "    </tr>\n",
       "    <tr>\n",
       "      <th>Departed before mobility customer was secure</th>\n",
       "      <td>35</td>\n",
       "    </tr>\n",
       "    <tr>\n",
       "      <th>Did not let disabled customer board</th>\n",
       "      <td>27</td>\n",
       "    </tr>\n",
       "    <tr>\n",
       "      <th>Failed to Secure Wheelchair</th>\n",
       "      <td>206</td>\n",
       "    </tr>\n",
       "    <tr>\n",
       "      <th>Failed to provide satisfactory service to persons with disabilities</th>\n",
       "      <td>367</td>\n",
       "    </tr>\n",
       "    <tr>\n",
       "      <th>Insists on securing mobility device</th>\n",
       "      <td>2</td>\n",
       "    </tr>\n",
       "    <tr>\n",
       "      <th>Refused Lift</th>\n",
       "      <td>886</td>\n",
       "    </tr>\n",
       "    <tr>\n",
       "      <th>Refused to deploy lift</th>\n",
       "      <td>76</td>\n",
       "    </tr>\n",
       "  </tbody>\n",
       "</table>\n",
       "</div>"
      ],
      "text/plain": [
       "                                                    accessibility_related_direct\n",
       "issue_detail                                                                    \n",
       "Bypassed Wheelchair                                                         1164\n",
       "Departed before mobility customer was secure                                  35\n",
       "Did not let disabled customer board                                           27\n",
       "Failed to Secure Wheelchair                                                  206\n",
       "Failed to provide satisfactory service to perso...                           367\n",
       "Insists on securing mobility device                                            2\n",
       "Refused Lift                                                                 886\n",
       "Refused to deploy lift                                                        76"
      ]
     },
     "execution_count": 64,
     "metadata": {},
     "output_type": "execute_result"
    }
   ],
   "source": [
    "# total count of direct accessibility related complaints\n",
    "\n",
    "pd.pivot_table(direct_df,values=\"accessibility_related_direct\", index=['issue_detail'] ,aggfunc='count')"
   ]
  },
  {
   "cell_type": "code",
   "execution_count": 105,
   "id": "cc192cc1",
   "metadata": {},
   "outputs": [
    {
     "data": {
      "text/plain": [
       "0.009427041928671104"
      ]
     },
     "execution_count": 105,
     "metadata": {},
     "output_type": "execute_result"
    }
   ],
   "source": [
    "direct_df.shape[0]/complaints_df.shape[0]"
   ]
  },
  {
   "cell_type": "code",
   "execution_count": null,
   "id": "79804841",
   "metadata": {},
   "outputs": [],
   "source": []
  },
  {
   "cell_type": "markdown",
   "id": "0de9170d",
   "metadata": {},
   "source": [
    "## 1539 complaints indirectly related to accessibility"
   ]
  },
  {
   "cell_type": "code",
   "execution_count": 65,
   "id": "e7d522e0",
   "metadata": {},
   "outputs": [],
   "source": [
    "indirect_df =  complaints_df[complaints_df['accessibility_related_indirect'] == 1]"
   ]
  },
  {
   "cell_type": "code",
   "execution_count": 79,
   "id": "53606a9f",
   "metadata": {},
   "outputs": [],
   "source": [
    "# indirect_df"
   ]
  },
  {
   "cell_type": "code",
   "execution_count": 66,
   "id": "b2552d16",
   "metadata": {},
   "outputs": [
    {
     "data": {
      "text/html": [
       "<div>\n",
       "<style scoped>\n",
       "    .dataframe tbody tr th:only-of-type {\n",
       "        vertical-align: middle;\n",
       "    }\n",
       "\n",
       "    .dataframe tbody tr th {\n",
       "        vertical-align: top;\n",
       "    }\n",
       "\n",
       "    .dataframe thead th {\n",
       "        text-align: right;\n",
       "    }\n",
       "</style>\n",
       "<table border=\"1\" class=\"dataframe\">\n",
       "  <thead>\n",
       "    <tr style=\"text-align: right;\">\n",
       "      <th></th>\n",
       "      <th></th>\n",
       "      <th>accessibility_related_indirect</th>\n",
       "    </tr>\n",
       "    <tr>\n",
       "      <th>issue_detail</th>\n",
       "      <th>year</th>\n",
       "      <th></th>\n",
       "    </tr>\n",
       "  </thead>\n",
       "  <tbody>\n",
       "    <tr>\n",
       "      <th rowspan=\"6\" valign=\"top\">Accessibility Due To Construction</th>\n",
       "      <th>2014</th>\n",
       "      <td>28</td>\n",
       "    </tr>\n",
       "    <tr>\n",
       "      <th>2015</th>\n",
       "      <td>72</td>\n",
       "    </tr>\n",
       "    <tr>\n",
       "      <th>2016</th>\n",
       "      <td>72</td>\n",
       "    </tr>\n",
       "    <tr>\n",
       "      <th>2017</th>\n",
       "      <td>14</td>\n",
       "    </tr>\n",
       "    <tr>\n",
       "      <th>2018</th>\n",
       "      <td>45</td>\n",
       "    </tr>\n",
       "    <tr>\n",
       "      <th>2019</th>\n",
       "      <td>2</td>\n",
       "    </tr>\n",
       "    <tr>\n",
       "      <th>Accessibility due to construction</th>\n",
       "      <th>2019</th>\n",
       "      <td>32</td>\n",
       "    </tr>\n",
       "    <tr>\n",
       "      <th rowspan=\"2\" valign=\"top\">Did not kneel/curb bus to facilitate boarding</th>\n",
       "      <th>2018</th>\n",
       "      <td>3</td>\n",
       "    </tr>\n",
       "    <tr>\n",
       "      <th>2019</th>\n",
       "      <td>239</td>\n",
       "    </tr>\n",
       "    <tr>\n",
       "      <th rowspan=\"6\" valign=\"top\">Difficulty Boarding / Entering</th>\n",
       "      <th>2014</th>\n",
       "      <td>20</td>\n",
       "    </tr>\n",
       "    <tr>\n",
       "      <th>2015</th>\n",
       "      <td>31</td>\n",
       "    </tr>\n",
       "    <tr>\n",
       "      <th>2016</th>\n",
       "      <td>35</td>\n",
       "    </tr>\n",
       "    <tr>\n",
       "      <th>2017</th>\n",
       "      <td>14</td>\n",
       "    </tr>\n",
       "    <tr>\n",
       "      <th>2018</th>\n",
       "      <td>30</td>\n",
       "    </tr>\n",
       "    <tr>\n",
       "      <th>2019</th>\n",
       "      <td>34</td>\n",
       "    </tr>\n",
       "    <tr>\n",
       "      <th rowspan=\"6\" valign=\"top\">Difficulty Leaving / Exiting</th>\n",
       "      <th>2014</th>\n",
       "      <td>11</td>\n",
       "    </tr>\n",
       "    <tr>\n",
       "      <th>2015</th>\n",
       "      <td>12</td>\n",
       "    </tr>\n",
       "    <tr>\n",
       "      <th>2016</th>\n",
       "      <td>10</td>\n",
       "    </tr>\n",
       "    <tr>\n",
       "      <th>2017</th>\n",
       "      <td>13</td>\n",
       "    </tr>\n",
       "    <tr>\n",
       "      <th>2018</th>\n",
       "      <td>4</td>\n",
       "    </tr>\n",
       "    <tr>\n",
       "      <th>2019</th>\n",
       "      <td>8</td>\n",
       "    </tr>\n",
       "    <tr>\n",
       "      <th rowspan=\"6\" valign=\"top\">Snow / Ice</th>\n",
       "      <th>2014</th>\n",
       "      <td>3</td>\n",
       "    </tr>\n",
       "    <tr>\n",
       "      <th>2015</th>\n",
       "      <td>91</td>\n",
       "    </tr>\n",
       "    <tr>\n",
       "      <th>2016</th>\n",
       "      <td>207</td>\n",
       "    </tr>\n",
       "    <tr>\n",
       "      <th>2017</th>\n",
       "      <td>154</td>\n",
       "    </tr>\n",
       "    <tr>\n",
       "      <th>2018</th>\n",
       "      <td>57</td>\n",
       "    </tr>\n",
       "    <tr>\n",
       "      <th>2019</th>\n",
       "      <td>5</td>\n",
       "    </tr>\n",
       "    <tr>\n",
       "      <th rowspan=\"6\" valign=\"top\">Unable To Exit At Station / Stop</th>\n",
       "      <th>2014</th>\n",
       "      <td>70</td>\n",
       "    </tr>\n",
       "    <tr>\n",
       "      <th>2015</th>\n",
       "      <td>34</td>\n",
       "    </tr>\n",
       "    <tr>\n",
       "      <th>2016</th>\n",
       "      <td>59</td>\n",
       "    </tr>\n",
       "    <tr>\n",
       "      <th>2017</th>\n",
       "      <td>45</td>\n",
       "    </tr>\n",
       "    <tr>\n",
       "      <th>2018</th>\n",
       "      <td>55</td>\n",
       "    </tr>\n",
       "    <tr>\n",
       "      <th>2019</th>\n",
       "      <td>30</td>\n",
       "    </tr>\n",
       "  </tbody>\n",
       "</table>\n",
       "</div>"
      ],
      "text/plain": [
       "                                                    accessibility_related_indirect\n",
       "issue_detail                                  year                                \n",
       "Accessibility Due To Construction             2014                              28\n",
       "                                              2015                              72\n",
       "                                              2016                              72\n",
       "                                              2017                              14\n",
       "                                              2018                              45\n",
       "                                              2019                               2\n",
       "Accessibility due to construction             2019                              32\n",
       "Did not kneel/curb bus to facilitate boarding 2018                               3\n",
       "                                              2019                             239\n",
       "Difficulty Boarding / Entering                2014                              20\n",
       "                                              2015                              31\n",
       "                                              2016                              35\n",
       "                                              2017                              14\n",
       "                                              2018                              30\n",
       "                                              2019                              34\n",
       "Difficulty Leaving / Exiting                  2014                              11\n",
       "                                              2015                              12\n",
       "                                              2016                              10\n",
       "                                              2017                              13\n",
       "                                              2018                               4\n",
       "                                              2019                               8\n",
       "Snow / Ice                                    2014                               3\n",
       "                                              2015                              91\n",
       "                                              2016                             207\n",
       "                                              2017                             154\n",
       "                                              2018                              57\n",
       "                                              2019                               5\n",
       "Unable To Exit At Station / Stop              2014                              70\n",
       "                                              2015                              34\n",
       "                                              2016                              59\n",
       "                                              2017                              45\n",
       "                                              2018                              55\n",
       "                                              2019                              30"
      ]
     },
     "execution_count": 66,
     "metadata": {},
     "output_type": "execute_result"
    }
   ],
   "source": [
    "pd.pivot_table(indirect_df,values=\"accessibility_related_indirect\", index=['issue_detail', 'year'] ,aggfunc='count')"
   ]
  },
  {
   "cell_type": "code",
   "execution_count": 67,
   "id": "24f1c45c",
   "metadata": {
    "scrolled": false
   },
   "outputs": [
    {
     "data": {
      "text/html": [
       "<div>\n",
       "<style scoped>\n",
       "    .dataframe tbody tr th:only-of-type {\n",
       "        vertical-align: middle;\n",
       "    }\n",
       "\n",
       "    .dataframe tbody tr th {\n",
       "        vertical-align: top;\n",
       "    }\n",
       "\n",
       "    .dataframe thead th {\n",
       "        text-align: right;\n",
       "    }\n",
       "</style>\n",
       "<table border=\"1\" class=\"dataframe\">\n",
       "  <thead>\n",
       "    <tr style=\"text-align: right;\">\n",
       "      <th></th>\n",
       "      <th>accessibility_related_indirect</th>\n",
       "    </tr>\n",
       "    <tr>\n",
       "      <th>issue_detail</th>\n",
       "      <th></th>\n",
       "    </tr>\n",
       "  </thead>\n",
       "  <tbody>\n",
       "    <tr>\n",
       "      <th>Accessibility Due To Construction</th>\n",
       "      <td>233</td>\n",
       "    </tr>\n",
       "    <tr>\n",
       "      <th>Accessibility due to construction</th>\n",
       "      <td>32</td>\n",
       "    </tr>\n",
       "    <tr>\n",
       "      <th>Did not kneel/curb bus to facilitate boarding</th>\n",
       "      <td>242</td>\n",
       "    </tr>\n",
       "    <tr>\n",
       "      <th>Difficulty Boarding / Entering</th>\n",
       "      <td>164</td>\n",
       "    </tr>\n",
       "    <tr>\n",
       "      <th>Difficulty Leaving / Exiting</th>\n",
       "      <td>58</td>\n",
       "    </tr>\n",
       "    <tr>\n",
       "      <th>Snow / Ice</th>\n",
       "      <td>517</td>\n",
       "    </tr>\n",
       "    <tr>\n",
       "      <th>Unable To Exit At Station / Stop</th>\n",
       "      <td>293</td>\n",
       "    </tr>\n",
       "  </tbody>\n",
       "</table>\n",
       "</div>"
      ],
      "text/plain": [
       "                                               accessibility_related_indirect\n",
       "issue_detail                                                                 \n",
       "Accessibility Due To Construction                                         233\n",
       "Accessibility due to construction                                          32\n",
       "Did not kneel/curb bus to facilitate boarding                             242\n",
       "Difficulty Boarding / Entering                                            164\n",
       "Difficulty Leaving / Exiting                                               58\n",
       "Snow / Ice                                                                517\n",
       "Unable To Exit At Station / Stop                                          293"
      ]
     },
     "execution_count": 67,
     "metadata": {},
     "output_type": "execute_result"
    }
   ],
   "source": [
    "pd.pivot_table(indirect_df,values=\"accessibility_related_indirect\", index=['issue_detail'] ,aggfunc='count')"
   ]
  },
  {
   "cell_type": "code",
   "execution_count": 106,
   "id": "f5bca1dc",
   "metadata": {},
   "outputs": [
    {
     "data": {
      "text/plain": [
       "0.005250893061246771"
      ]
     },
     "execution_count": 106,
     "metadata": {},
     "output_type": "execute_result"
    }
   ],
   "source": [
    "indirect_df.shape[0]/complaints_df.shape[0]"
   ]
  },
  {
   "cell_type": "markdown",
   "id": "c51cf34d",
   "metadata": {},
   "source": [
    "## 1539 other noteworthy related complaints to accessibility"
   ]
  },
  {
   "cell_type": "code",
   "execution_count": 68,
   "id": "eada4e79",
   "metadata": {},
   "outputs": [],
   "source": [
    "otherworthy_df =  complaints_df[complaints_df['quality_other_noteworthy_complaint'] == 1]"
   ]
  },
  {
   "cell_type": "code",
   "execution_count": 77,
   "id": "f19ce90b",
   "metadata": {},
   "outputs": [],
   "source": [
    "# otherworthy_df"
   ]
  },
  {
   "cell_type": "code",
   "execution_count": 70,
   "id": "3c6bf43e",
   "metadata": {},
   "outputs": [
    {
     "data": {
      "text/html": [
       "<div>\n",
       "<style scoped>\n",
       "    .dataframe tbody tr th:only-of-type {\n",
       "        vertical-align: middle;\n",
       "    }\n",
       "\n",
       "    .dataframe tbody tr th {\n",
       "        vertical-align: top;\n",
       "    }\n",
       "\n",
       "    .dataframe thead th {\n",
       "        text-align: right;\n",
       "    }\n",
       "</style>\n",
       "<table border=\"1\" class=\"dataframe\">\n",
       "  <thead>\n",
       "    <tr style=\"text-align: right;\">\n",
       "      <th></th>\n",
       "      <th>agency</th>\n",
       "      <th>commendation_or_complaint</th>\n",
       "      <th>subject_matter</th>\n",
       "      <th>subject_detail</th>\n",
       "      <th>issue_detail</th>\n",
       "      <th>year</th>\n",
       "      <th>quarter</th>\n",
       "      <th>branch_line_route</th>\n",
       "      <th>accessibility_related_direct</th>\n",
       "      <th>accessibility_related_indirect</th>\n",
       "      <th>quality_other_noteworthy_complaint</th>\n",
       "    </tr>\n",
       "  </thead>\n",
       "  <tbody>\n",
       "    <tr>\n",
       "      <th>11688</th>\n",
       "      <td>NYC Buses</td>\n",
       "      <td>Complaint</td>\n",
       "      <td>Employees</td>\n",
       "      <td>Bus Operator/Driver</td>\n",
       "      <td>Did not kneel/curb bus to facilitate boarding</td>\n",
       "      <td>2019</td>\n",
       "      <td>4</td>\n",
       "      <td>Q50-LTD</td>\n",
       "      <td>0</td>\n",
       "      <td>1</td>\n",
       "      <td>1</td>\n",
       "    </tr>\n",
       "    <tr>\n",
       "      <th>11844</th>\n",
       "      <td>NYC Buses</td>\n",
       "      <td>Complaint</td>\n",
       "      <td>Employees</td>\n",
       "      <td>Bus Operator/Driver</td>\n",
       "      <td>Did not kneel/curb bus to facilitate boarding</td>\n",
       "      <td>2019</td>\n",
       "      <td>4</td>\n",
       "      <td>S53</td>\n",
       "      <td>0</td>\n",
       "      <td>1</td>\n",
       "      <td>1</td>\n",
       "    </tr>\n",
       "  </tbody>\n",
       "</table>\n",
       "</div>"
      ],
      "text/plain": [
       "          agency commendation_or_complaint subject_matter  \\\n",
       "11688  NYC Buses                 Complaint      Employees   \n",
       "11844  NYC Buses                 Complaint      Employees   \n",
       "\n",
       "            subject_detail                                   issue_detail  \\\n",
       "11688  Bus Operator/Driver  Did not kneel/curb bus to facilitate boarding   \n",
       "11844  Bus Operator/Driver  Did not kneel/curb bus to facilitate boarding   \n",
       "\n",
       "       year  quarter branch_line_route  accessibility_related_direct  \\\n",
       "11688  2019        4           Q50-LTD                             0   \n",
       "11844  2019        4               S53                             0   \n",
       "\n",
       "       accessibility_related_indirect  quality_other_noteworthy_complaint  \n",
       "11688                               1                                   1  \n",
       "11844                               1                                   1  "
      ]
     },
     "execution_count": 70,
     "metadata": {},
     "output_type": "execute_result"
    }
   ],
   "source": [
    "otherworthy_df.head(2)"
   ]
  },
  {
   "cell_type": "code",
   "execution_count": 72,
   "id": "fb028a69",
   "metadata": {
    "scrolled": true
   },
   "outputs": [
    {
     "data": {
      "text/html": [
       "<div>\n",
       "<style scoped>\n",
       "    .dataframe tbody tr th:only-of-type {\n",
       "        vertical-align: middle;\n",
       "    }\n",
       "\n",
       "    .dataframe tbody tr th {\n",
       "        vertical-align: top;\n",
       "    }\n",
       "\n",
       "    .dataframe thead th {\n",
       "        text-align: right;\n",
       "    }\n",
       "</style>\n",
       "<table border=\"1\" class=\"dataframe\">\n",
       "  <thead>\n",
       "    <tr style=\"text-align: right;\">\n",
       "      <th></th>\n",
       "      <th></th>\n",
       "      <th>quality_other_noteworthy_complaint</th>\n",
       "    </tr>\n",
       "    <tr>\n",
       "      <th>issue_detail</th>\n",
       "      <th>year</th>\n",
       "      <th></th>\n",
       "    </tr>\n",
       "  </thead>\n",
       "  <tbody>\n",
       "    <tr>\n",
       "      <th rowspan=\"6\" valign=\"top\">Accessibility Due To Construction</th>\n",
       "      <th>2014</th>\n",
       "      <td>28</td>\n",
       "    </tr>\n",
       "    <tr>\n",
       "      <th>2015</th>\n",
       "      <td>72</td>\n",
       "    </tr>\n",
       "    <tr>\n",
       "      <th>2016</th>\n",
       "      <td>72</td>\n",
       "    </tr>\n",
       "    <tr>\n",
       "      <th>2017</th>\n",
       "      <td>14</td>\n",
       "    </tr>\n",
       "    <tr>\n",
       "      <th>2018</th>\n",
       "      <td>45</td>\n",
       "    </tr>\n",
       "    <tr>\n",
       "      <th>2019</th>\n",
       "      <td>2</td>\n",
       "    </tr>\n",
       "    <tr>\n",
       "      <th>Accessibility due to construction</th>\n",
       "      <th>2019</th>\n",
       "      <td>32</td>\n",
       "    </tr>\n",
       "    <tr>\n",
       "      <th rowspan=\"2\" valign=\"top\">Did not kneel/curb bus to facilitate boarding</th>\n",
       "      <th>2018</th>\n",
       "      <td>3</td>\n",
       "    </tr>\n",
       "    <tr>\n",
       "      <th>2019</th>\n",
       "      <td>239</td>\n",
       "    </tr>\n",
       "    <tr>\n",
       "      <th rowspan=\"6\" valign=\"top\">Difficulty Boarding / Entering</th>\n",
       "      <th>2014</th>\n",
       "      <td>20</td>\n",
       "    </tr>\n",
       "    <tr>\n",
       "      <th>2015</th>\n",
       "      <td>31</td>\n",
       "    </tr>\n",
       "    <tr>\n",
       "      <th>2016</th>\n",
       "      <td>35</td>\n",
       "    </tr>\n",
       "    <tr>\n",
       "      <th>2017</th>\n",
       "      <td>14</td>\n",
       "    </tr>\n",
       "    <tr>\n",
       "      <th>2018</th>\n",
       "      <td>30</td>\n",
       "    </tr>\n",
       "    <tr>\n",
       "      <th>2019</th>\n",
       "      <td>34</td>\n",
       "    </tr>\n",
       "    <tr>\n",
       "      <th rowspan=\"6\" valign=\"top\">Difficulty Leaving / Exiting</th>\n",
       "      <th>2014</th>\n",
       "      <td>11</td>\n",
       "    </tr>\n",
       "    <tr>\n",
       "      <th>2015</th>\n",
       "      <td>12</td>\n",
       "    </tr>\n",
       "    <tr>\n",
       "      <th>2016</th>\n",
       "      <td>10</td>\n",
       "    </tr>\n",
       "    <tr>\n",
       "      <th>2017</th>\n",
       "      <td>13</td>\n",
       "    </tr>\n",
       "    <tr>\n",
       "      <th>2018</th>\n",
       "      <td>4</td>\n",
       "    </tr>\n",
       "    <tr>\n",
       "      <th>2019</th>\n",
       "      <td>8</td>\n",
       "    </tr>\n",
       "    <tr>\n",
       "      <th rowspan=\"6\" valign=\"top\">Snow / Ice</th>\n",
       "      <th>2014</th>\n",
       "      <td>3</td>\n",
       "    </tr>\n",
       "    <tr>\n",
       "      <th>2015</th>\n",
       "      <td>91</td>\n",
       "    </tr>\n",
       "    <tr>\n",
       "      <th>2016</th>\n",
       "      <td>207</td>\n",
       "    </tr>\n",
       "    <tr>\n",
       "      <th>2017</th>\n",
       "      <td>154</td>\n",
       "    </tr>\n",
       "    <tr>\n",
       "      <th>2018</th>\n",
       "      <td>57</td>\n",
       "    </tr>\n",
       "    <tr>\n",
       "      <th>2019</th>\n",
       "      <td>5</td>\n",
       "    </tr>\n",
       "    <tr>\n",
       "      <th rowspan=\"6\" valign=\"top\">Unable To Exit At Station / Stop</th>\n",
       "      <th>2014</th>\n",
       "      <td>70</td>\n",
       "    </tr>\n",
       "    <tr>\n",
       "      <th>2015</th>\n",
       "      <td>34</td>\n",
       "    </tr>\n",
       "    <tr>\n",
       "      <th>2016</th>\n",
       "      <td>59</td>\n",
       "    </tr>\n",
       "    <tr>\n",
       "      <th>2017</th>\n",
       "      <td>45</td>\n",
       "    </tr>\n",
       "    <tr>\n",
       "      <th>2018</th>\n",
       "      <td>55</td>\n",
       "    </tr>\n",
       "    <tr>\n",
       "      <th>2019</th>\n",
       "      <td>30</td>\n",
       "    </tr>\n",
       "  </tbody>\n",
       "</table>\n",
       "</div>"
      ],
      "text/plain": [
       "                                                    quality_other_noteworthy_complaint\n",
       "issue_detail                                  year                                    \n",
       "Accessibility Due To Construction             2014                                  28\n",
       "                                              2015                                  72\n",
       "                                              2016                                  72\n",
       "                                              2017                                  14\n",
       "                                              2018                                  45\n",
       "                                              2019                                   2\n",
       "Accessibility due to construction             2019                                  32\n",
       "Did not kneel/curb bus to facilitate boarding 2018                                   3\n",
       "                                              2019                                 239\n",
       "Difficulty Boarding / Entering                2014                                  20\n",
       "                                              2015                                  31\n",
       "                                              2016                                  35\n",
       "                                              2017                                  14\n",
       "                                              2018                                  30\n",
       "                                              2019                                  34\n",
       "Difficulty Leaving / Exiting                  2014                                  11\n",
       "                                              2015                                  12\n",
       "                                              2016                                  10\n",
       "                                              2017                                  13\n",
       "                                              2018                                   4\n",
       "                                              2019                                   8\n",
       "Snow / Ice                                    2014                                   3\n",
       "                                              2015                                  91\n",
       "                                              2016                                 207\n",
       "                                              2017                                 154\n",
       "                                              2018                                  57\n",
       "                                              2019                                   5\n",
       "Unable To Exit At Station / Stop              2014                                  70\n",
       "                                              2015                                  34\n",
       "                                              2016                                  59\n",
       "                                              2017                                  45\n",
       "                                              2018                                  55\n",
       "                                              2019                                  30"
      ]
     },
     "execution_count": 72,
     "metadata": {},
     "output_type": "execute_result"
    }
   ],
   "source": [
    "pd.pivot_table(otherworthy_df,values=\"quality_other_noteworthy_complaint\", index=['issue_detail', 'year'] ,aggfunc='count')\n",
    "\n"
   ]
  },
  {
   "cell_type": "code",
   "execution_count": 73,
   "id": "d401d2f6",
   "metadata": {},
   "outputs": [
    {
     "data": {
      "text/html": [
       "<div>\n",
       "<style scoped>\n",
       "    .dataframe tbody tr th:only-of-type {\n",
       "        vertical-align: middle;\n",
       "    }\n",
       "\n",
       "    .dataframe tbody tr th {\n",
       "        vertical-align: top;\n",
       "    }\n",
       "\n",
       "    .dataframe thead th {\n",
       "        text-align: right;\n",
       "    }\n",
       "</style>\n",
       "<table border=\"1\" class=\"dataframe\">\n",
       "  <thead>\n",
       "    <tr style=\"text-align: right;\">\n",
       "      <th></th>\n",
       "      <th>quality_other_noteworthy_complaint</th>\n",
       "    </tr>\n",
       "    <tr>\n",
       "      <th>issue_detail</th>\n",
       "      <th></th>\n",
       "    </tr>\n",
       "  </thead>\n",
       "  <tbody>\n",
       "    <tr>\n",
       "      <th>Accessibility Due To Construction</th>\n",
       "      <td>233</td>\n",
       "    </tr>\n",
       "    <tr>\n",
       "      <th>Accessibility due to construction</th>\n",
       "      <td>32</td>\n",
       "    </tr>\n",
       "    <tr>\n",
       "      <th>Did not kneel/curb bus to facilitate boarding</th>\n",
       "      <td>242</td>\n",
       "    </tr>\n",
       "    <tr>\n",
       "      <th>Difficulty Boarding / Entering</th>\n",
       "      <td>164</td>\n",
       "    </tr>\n",
       "    <tr>\n",
       "      <th>Difficulty Leaving / Exiting</th>\n",
       "      <td>58</td>\n",
       "    </tr>\n",
       "    <tr>\n",
       "      <th>Snow / Ice</th>\n",
       "      <td>517</td>\n",
       "    </tr>\n",
       "    <tr>\n",
       "      <th>Unable To Exit At Station / Stop</th>\n",
       "      <td>293</td>\n",
       "    </tr>\n",
       "  </tbody>\n",
       "</table>\n",
       "</div>"
      ],
      "text/plain": [
       "                                               quality_other_noteworthy_complaint\n",
       "issue_detail                                                                     \n",
       "Accessibility Due To Construction                                             233\n",
       "Accessibility due to construction                                              32\n",
       "Did not kneel/curb bus to facilitate boarding                                 242\n",
       "Difficulty Boarding / Entering                                                164\n",
       "Difficulty Leaving / Exiting                                                   58\n",
       "Snow / Ice                                                                    517\n",
       "Unable To Exit At Station / Stop                                              293"
      ]
     },
     "execution_count": 73,
     "metadata": {},
     "output_type": "execute_result"
    }
   ],
   "source": [
    "pd.pivot_table(otherworthy_df,values=\"quality_other_noteworthy_complaint\", index=['issue_detail'] ,aggfunc='count')"
   ]
  },
  {
   "cell_type": "code",
   "execution_count": 107,
   "id": "9996769d",
   "metadata": {},
   "outputs": [
    {
     "data": {
      "text/plain": [
       "0.005250893061246771"
      ]
     },
     "execution_count": 107,
     "metadata": {},
     "output_type": "execute_result"
    }
   ],
   "source": [
    "otherworthy_df.shape[0]/complaints_df.shape[0]"
   ]
  },
  {
   "cell_type": "code",
   "execution_count": null,
   "id": "3d769c9d",
   "metadata": {},
   "outputs": [],
   "source": []
  }
 ],
 "metadata": {
  "kernelspec": {
   "display_name": "Python 3 (ipykernel)",
   "language": "python",
   "name": "python3"
  },
  "language_info": {
   "codemirror_mode": {
    "name": "ipython",
    "version": 3
   },
   "file_extension": ".py",
   "mimetype": "text/x-python",
   "name": "python",
   "nbconvert_exporter": "python",
   "pygments_lexer": "ipython3",
   "version": "3.10.6"
  }
 },
 "nbformat": 4,
 "nbformat_minor": 5
}
