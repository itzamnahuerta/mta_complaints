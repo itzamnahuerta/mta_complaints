{
 "cells": [
  {
   "cell_type": "markdown",
   "id": "62314207",
   "metadata": {},
   "source": [
    "# NYC Bus Stops vs Bus Shelters: Riders Comfort"
   ]
  },
  {
   "cell_type": "markdown",
   "id": "88c26e58",
   "metadata": {},
   "source": [
    "### Findings:\n",
    "\n",
    "- 15,047 bus stops as of 2020\n",
    "- 3,332 of those bus stops have shelters, last updated Sep 7, 2022 \n",
    "- 22.14% of all bus stops that are sheltered"
   ]
  },
  {
   "cell_type": "markdown",
   "id": "cda0e029",
   "metadata": {},
   "source": [
    "<b>Sources:</b><br>\n",
    "[Bus Stops](https://www.baruch.cuny.edu/confluence/display/geoportal/NYC+Mass+Transit+Spatial+Layers) <br>\n",
    "[Bus Shelters](https://data.cityofnewyork.us/Transportation/Bus-Stop-Shelters/qafz-7myz)"
   ]
  },
  {
   "cell_type": "code",
   "execution_count": 1,
   "id": "4bb3945f",
   "metadata": {},
   "outputs": [],
   "source": [
    "import pandas as pd \n",
    "import numpy as np\n",
    "import seaborn as sns\n",
    "%matplotlib inline\n",
    "import matplotlib.pyplot as plt"
   ]
  },
  {
   "cell_type": "code",
   "execution_count": 2,
   "id": "8b717b38",
   "metadata": {},
   "outputs": [],
   "source": [
    "bus_stops = pd.read_csv('./data/bus_stops_2020.csv')\n",
    "bus_shelters = pd.read_csv('./data/Bus_Stop_Shelter.csv')"
   ]
  },
  {
   "cell_type": "code",
   "execution_count": 3,
   "id": "f4d61ea0",
   "metadata": {},
   "outputs": [
    {
     "data": {
      "text/html": [
       "<div>\n",
       "<style scoped>\n",
       "    .dataframe tbody tr th:only-of-type {\n",
       "        vertical-align: middle;\n",
       "    }\n",
       "\n",
       "    .dataframe tbody tr th {\n",
       "        vertical-align: top;\n",
       "    }\n",
       "\n",
       "    .dataframe thead th {\n",
       "        text-align: right;\n",
       "    }\n",
       "</style>\n",
       "<table border=\"1\" class=\"dataframe\">\n",
       "  <thead>\n",
       "    <tr style=\"text-align: right;\">\n",
       "      <th></th>\n",
       "      <th>stop_id</th>\n",
       "      <th>stop_name</th>\n",
       "      <th>stop_lat</th>\n",
       "      <th>stop_lon</th>\n",
       "      <th>GEOID</th>\n",
       "      <th>NAMELSAD</th>\n",
       "    </tr>\n",
       "  </thead>\n",
       "  <tbody>\n",
       "    <tr>\n",
       "      <th>0</th>\n",
       "      <td>301043</td>\n",
       "      <td>NEW LOTS AV/MILLER AV</td>\n",
       "      <td>40.663782</td>\n",
       "      <td>-73.888834</td>\n",
       "      <td>36047</td>\n",
       "      <td>Kings County</td>\n",
       "    </tr>\n",
       "    <tr>\n",
       "      <th>1</th>\n",
       "      <td>301045</td>\n",
       "      <td>NEW LOTS AV/PENNSYLVANIA AV</td>\n",
       "      <td>40.661934</td>\n",
       "      <td>-73.893030</td>\n",
       "      <td>36047</td>\n",
       "      <td>Kings County</td>\n",
       "    </tr>\n",
       "    <tr>\n",
       "      <th>2</th>\n",
       "      <td>301049</td>\n",
       "      <td>NEW LOTS AV/VAN SINDEREN AV</td>\n",
       "      <td>40.659027</td>\n",
       "      <td>-73.899546</td>\n",
       "      <td>36047</td>\n",
       "      <td>Kings County</td>\n",
       "    </tr>\n",
       "    <tr>\n",
       "      <th>3</th>\n",
       "      <td>301053</td>\n",
       "      <td>HEGEMAN AV/THATFORD AV</td>\n",
       "      <td>40.656480</td>\n",
       "      <td>-73.906268</td>\n",
       "      <td>36047</td>\n",
       "      <td>Kings County</td>\n",
       "    </tr>\n",
       "    <tr>\n",
       "      <th>4</th>\n",
       "      <td>301132</td>\n",
       "      <td>HEGEMAN AV/ROCKAWAY AV</td>\n",
       "      <td>40.656280</td>\n",
       "      <td>-73.906863</td>\n",
       "      <td>36047</td>\n",
       "      <td>Kings County</td>\n",
       "    </tr>\n",
       "  </tbody>\n",
       "</table>\n",
       "</div>"
      ],
      "text/plain": [
       "   stop_id                    stop_name   stop_lat   stop_lon  GEOID  \\\n",
       "0   301043        NEW LOTS AV/MILLER AV  40.663782 -73.888834  36047   \n",
       "1   301045  NEW LOTS AV/PENNSYLVANIA AV  40.661934 -73.893030  36047   \n",
       "2   301049  NEW LOTS AV/VAN SINDEREN AV  40.659027 -73.899546  36047   \n",
       "3   301053       HEGEMAN AV/THATFORD AV  40.656480 -73.906268  36047   \n",
       "4   301132       HEGEMAN AV/ROCKAWAY AV  40.656280 -73.906863  36047   \n",
       "\n",
       "       NAMELSAD  \n",
       "0  Kings County  \n",
       "1  Kings County  \n",
       "2  Kings County  \n",
       "3  Kings County  \n",
       "4  Kings County  "
      ]
     },
     "execution_count": 3,
     "metadata": {},
     "output_type": "execute_result"
    }
   ],
   "source": [
    "bus_stops.head()"
   ]
  },
  {
   "cell_type": "code",
   "execution_count": 4,
   "id": "a5cce53c",
   "metadata": {},
   "outputs": [
    {
     "data": {
      "text/plain": [
       "(15047, 6)"
      ]
     },
     "execution_count": 4,
     "metadata": {},
     "output_type": "execute_result"
    }
   ],
   "source": [
    "bus_stops.shape"
   ]
  },
  {
   "cell_type": "code",
   "execution_count": 5,
   "id": "12c505eb",
   "metadata": {},
   "outputs": [
    {
     "data": {
      "text/html": [
       "<div>\n",
       "<style scoped>\n",
       "    .dataframe tbody tr th:only-of-type {\n",
       "        vertical-align: middle;\n",
       "    }\n",
       "\n",
       "    .dataframe tbody tr th {\n",
       "        vertical-align: top;\n",
       "    }\n",
       "\n",
       "    .dataframe thead th {\n",
       "        text-align: right;\n",
       "    }\n",
       "</style>\n",
       "<table border=\"1\" class=\"dataframe\">\n",
       "  <thead>\n",
       "    <tr style=\"text-align: right;\">\n",
       "      <th></th>\n",
       "      <th>the_geom</th>\n",
       "      <th>BoroCode</th>\n",
       "      <th>BoroName</th>\n",
       "      <th>BoroCD</th>\n",
       "      <th>CounDist</th>\n",
       "      <th>AssemDist</th>\n",
       "      <th>StSenDist</th>\n",
       "      <th>CongDist</th>\n",
       "      <th>Furn_Code</th>\n",
       "      <th>Address</th>\n",
       "      <th>Latitude</th>\n",
       "      <th>Longitude</th>\n",
       "      <th>NTAName</th>\n",
       "      <th>FEMAFldz</th>\n",
       "      <th>FEMAFldT</th>\n",
       "      <th>HrcEvac</th>\n",
       "    </tr>\n",
       "  </thead>\n",
       "  <tbody>\n",
       "    <tr>\n",
       "      <th>0</th>\n",
       "      <td>POINT (-73.97724856366214 40.659636752574926)</td>\n",
       "      <td>3</td>\n",
       "      <td>Brooklyn</td>\n",
       "      <td>307</td>\n",
       "      <td>39</td>\n",
       "      <td>44</td>\n",
       "      <td>21</td>\n",
       "      <td>9</td>\n",
       "      <td>BR02309AB</td>\n",
       "      <td>10TH AVE</td>\n",
       "      <td>40.659645</td>\n",
       "      <td>-73.977250</td>\n",
       "      <td>Windsor Terrace-South Slope</td>\n",
       "      <td>X</td>\n",
       "      <td>AREA OF MINIMAL FLOOD HAZARD</td>\n",
       "      <td>NaN</td>\n",
       "    </tr>\n",
       "    <tr>\n",
       "      <th>1</th>\n",
       "      <td>POINT (-73.95524256404973 40.77351973027252)</td>\n",
       "      <td>1</td>\n",
       "      <td>Manhattan</td>\n",
       "      <td>108</td>\n",
       "      <td>5</td>\n",
       "      <td>73</td>\n",
       "      <td>28</td>\n",
       "      <td>12</td>\n",
       "      <td>MN01368AB</td>\n",
       "      <td>3RD AV (MN0103)</td>\n",
       "      <td>40.773528</td>\n",
       "      <td>-73.955244</td>\n",
       "      <td>Upper East Side-Yorkville</td>\n",
       "      <td>X</td>\n",
       "      <td>AREA OF MINIMAL FLOOD HAZARD</td>\n",
       "      <td>NaN</td>\n",
       "    </tr>\n",
       "  </tbody>\n",
       "</table>\n",
       "</div>"
      ],
      "text/plain": [
       "                                        the_geom  BoroCode   BoroName  BoroCD  \\\n",
       "0  POINT (-73.97724856366214 40.659636752574926)         3   Brooklyn     307   \n",
       "1   POINT (-73.95524256404973 40.77351973027252)         1  Manhattan     108   \n",
       "\n",
       "   CounDist  AssemDist  StSenDist  CongDist  Furn_Code          Address  \\\n",
       "0        39         44         21         9  BR02309AB         10TH AVE   \n",
       "1         5         73         28        12  MN01368AB  3RD AV (MN0103)   \n",
       "\n",
       "    Latitude  Longitude                      NTAName FEMAFldz  \\\n",
       "0  40.659645 -73.977250  Windsor Terrace-South Slope        X   \n",
       "1  40.773528 -73.955244    Upper East Side-Yorkville        X   \n",
       "\n",
       "                       FEMAFldT  HrcEvac  \n",
       "0  AREA OF MINIMAL FLOOD HAZARD      NaN  \n",
       "1  AREA OF MINIMAL FLOOD HAZARD      NaN  "
      ]
     },
     "execution_count": 5,
     "metadata": {},
     "output_type": "execute_result"
    }
   ],
   "source": [
    "bus_shelters.head(2)"
   ]
  },
  {
   "cell_type": "code",
   "execution_count": 6,
   "id": "bfce7fa4",
   "metadata": {},
   "outputs": [
    {
     "data": {
      "text/plain": [
       "(3332, 16)"
      ]
     },
     "execution_count": 6,
     "metadata": {},
     "output_type": "execute_result"
    }
   ],
   "source": [
    "bus_shelters.shape"
   ]
  }
 ],
 "metadata": {
  "kernelspec": {
   "display_name": "Python 3 (ipykernel)",
   "language": "python",
   "name": "python3"
  },
  "language_info": {
   "codemirror_mode": {
    "name": "ipython",
    "version": 3
   },
   "file_extension": ".py",
   "mimetype": "text/x-python",
   "name": "python",
   "nbconvert_exporter": "python",
   "pygments_lexer": "ipython3",
   "version": "3.10.6"
  }
 },
 "nbformat": 4,
 "nbformat_minor": 5
}
